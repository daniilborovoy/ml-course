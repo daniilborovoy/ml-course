{
 "cells": [
  {
   "cell_type": "markdown",
   "metadata": {},
   "source": [
    "# Кластеризация\n",
    "\n",
    "Метод ближайшего соседа и расстояние Минковского"
   ]
  },
  {
   "cell_type": "code",
   "execution_count": 11,
   "metadata": {},
   "outputs": [
    {
     "data": {
      "image/png": "[encoded data removed]",
      "text/plain": [
       "<Figure size 1200x600 with 1 Axes>"
      ]
     },
     "metadata": {},
     "output_type": "display_data"
    }
   ],
   "source": [
    "import numpy as np\n",
    "from scipy.cluster.hierarchy import dendrogram\n",
    "import matplotlib.pyplot as plt\n",
    "import plotly.figure_factory as ff\n",
    "\n",
    "\n",
    "class HierarchicalClustering:\n",
    "    def __init__(self, data, p=2, method='single'):\n",
    "        \"\"\"\n",
    "        Инициализация объекта для иерархической кластеризации.\n",
    "\n",
    "        :param data: Данные для кластеризации (numpy array).\n",
    "        :param p: Параметр для метрики Минковского (по умолчанию 2, что соответствует евклидову расстоянию).\n",
    "        :param method: Метод кластеризации (по умолчанию 'single').\n",
    "        \"\"\"\n",
    "        self.data = data\n",
    "        self.p = p\n",
    "        self.method = method\n",
    "        self.distance_matrix = None\n",
    "        self.Z = []  # Linkage matrix\n",
    "        self.labels = None\n",
    "\n",
    "    def minkowski_distance(self, point1, point2):\n",
    "        \"\"\"Вычисление расстояния Минковского между двумя точками.\"\"\"\n",
    "        return np.sum(np.abs(point1 - point2) ** self.p) ** (1 / self.p)\n",
    "\n",
    "    def calculate_distances(self):\n",
    "        \"\"\"Вычисление матрицы попарных расстояний.\"\"\"\n",
    "        n = len(self.data)\n",
    "        self.distance_matrix = np.zeros((n, n))\n",
    "        for i in range(n):\n",
    "            for j in range(i + 1, n):\n",
    "                dist = self.minkowski_distance(self.data[i], self.data[j])\n",
    "                self.distance_matrix[i, j] = dist\n",
    "                self.distance_matrix[j, i] = dist\n",
    "\n",
    "    def perform_clustering(self):\n",
    "        \"\"\"Выполнение иерархической кластеризации.\"\"\"\n",
    "        if self.distance_matrix is None:\n",
    "            raise ValueError(\"Расстояния не вычислены. Сначала выполните calculate_distances.\")\n",
    "\n",
    "        n = len(self.data)\n",
    "        clusters = [[i] for i in range(n)]  # Each point starts as its own cluster\n",
    "        current_cluster_id = n  # IDs for new merged clusters\n",
    "\n",
    "        while len(clusters) > 1:\n",
    "            min_dist = float('inf')\n",
    "            merge_pair = (-1, -1)\n",
    "\n",
    "            # Find the closest pair of clusters\n",
    "            for i in range(len(clusters)):\n",
    "                for j in range(i + 1, len(clusters)):\n",
    "                    dist = self._calculate_linkage_distance(clusters[i], clusters[j])\n",
    "                    if dist < min_dist:\n",
    "                        min_dist = dist\n",
    "                        merge_pair = (i, j)\n",
    "\n",
    "            # Merge the closest clusters\n",
    "            i, j = merge_pair\n",
    "            new_cluster = clusters[i] + clusters[j]\n",
    "            clusters.append(new_cluster)\n",
    "\n",
    "            # Record the merge in the linkage matrix\n",
    "            self.Z.append([clusters[i][0], clusters[j][0], min_dist, len(new_cluster)])\n",
    "\n",
    "            # Remove the merged clusters\n",
    "            del clusters[max(i, j)]\n",
    "            del clusters[min(i, j)]\n",
    "\n",
    "            # Update cluster IDs\n",
    "            current_cluster_id += 1\n",
    "\n",
    "        # Convert Z to the correct format\n",
    "        self.Z = self._fix_linkage_matrix()\n",
    "\n",
    "    def _fix_linkage_matrix(self):\n",
    "        \"\"\"Fix the linkage matrix to conform to scipy's expected format.\"\"\"\n",
    "        n = len(self.data)\n",
    "        cluster_id_map = {i: i for i in range(n)}  # Map original IDs to new IDs\n",
    "        fixed_Z = []\n",
    "\n",
    "        for i, (c1, c2, dist, size) in enumerate(self.Z):\n",
    "            # Map old cluster IDs to new IDs\n",
    "            new_c1 = cluster_id_map[c1]\n",
    "            new_c2 = cluster_id_map[c2]\n",
    "\n",
    "            # Assign a new ID to the merged cluster\n",
    "            new_cluster_id = n + i\n",
    "            cluster_id_map[c1] = new_cluster_id\n",
    "            cluster_id_map[c2] = new_cluster_id\n",
    "\n",
    "            # Append the fixed row to the linkage matrix\n",
    "            fixed_Z.append([new_c1, new_c2, dist, size])\n",
    "\n",
    "        return np.array(fixed_Z)\n",
    "\n",
    "    def _calculate_linkage_distance(self, cluster1, cluster2):\n",
    "        \"\"\"Вычисление расстояния между двумя кластерами в зависимости от метода.\"\"\"\n",
    "        if self.method == 'single':\n",
    "            return self._single_linkage(cluster1, cluster2)\n",
    "        elif self.method == 'complete':\n",
    "            return self._complete_linkage(cluster1, cluster2)\n",
    "        elif self.method == 'average':\n",
    "            return self._average_linkage(cluster1, cluster2)\n",
    "        else:\n",
    "            raise ValueError(f\"Неизвестный метод: {self.method}\")\n",
    "\n",
    "    def _single_linkage(self, cluster1, cluster2):\n",
    "        \"\"\"Минимальное расстояние между элементами двух кластеров.\"\"\"\n",
    "        min_dist = float('inf')\n",
    "        for i in cluster1:\n",
    "            for j in cluster2:\n",
    "                dist = self.distance_matrix[i, j]\n",
    "                if dist < min_dist:\n",
    "                    min_dist = dist\n",
    "        return min_dist\n",
    "\n",
    "    def _complete_linkage(self, cluster1, cluster2):\n",
    "        \"\"\"Максимальное расстояние между элементами двух кластеров.\"\"\"\n",
    "        max_dist = -float('inf')\n",
    "        for i in cluster1:\n",
    "            for j in cluster2:\n",
    "                dist = self.distance_matrix[i, j]\n",
    "                if dist > max_dist:\n",
    "                    max_dist = dist\n",
    "        return max_dist\n",
    "\n",
    "    def _average_linkage(self, cluster1, cluster2):\n",
    "        \"\"\"Среднее расстояние между элементами двух кластеров.\"\"\"\n",
    "        total_dist = 0\n",
    "        count = 0\n",
    "        for i in cluster1:\n",
    "            for j in cluster2:\n",
    "                total_dist += self.distance_matrix[i, j]\n",
    "                count += 1\n",
    "        return total_dist / count\n",
    "\n",
    "    def get_cluster_labels(self, t):\n",
    "        \"\"\"Получение меток кластеров для заданного порога.\"\"\"\n",
    "        if self.Z is None:\n",
    "            raise ValueError(\"Кластеризация не выполнена. Сначала выполните perform_clustering.\")\n",
    "        n = len(self.data)\n",
    "        labels = np.arange(n)\n",
    "        for i, (c1, c2, dist, _) in enumerate(self.Z):\n",
    "            if dist <= t:\n",
    "                labels[labels == c1] = n + i\n",
    "                labels[labels == c2] = n + i\n",
    "        self.labels = labels\n",
    "        return labels\n",
    "\n",
    "    def plot_dendrogram(self, labels=None, truncate_mode=None, p=30):\n",
    "        \"\"\"\n",
    "        Построение дендрограммы с использованием scipy.cluster.hierarchy.dendrogram.\n",
    "        \n",
    "        :param labels: Optional list of labels (e.g., movie titles) to display on the x-axis.\n",
    "        :param truncate_mode: Truncation mode ('lastp', 'level', or None).\n",
    "        :param p: Number of bottom levels to show if truncate_mode='lastp'.\n",
    "        \"\"\"\n",
    "        if self.Z is None:\n",
    "            raise ValueError(\"Кластеризация не выполнена. Сначала выполните perform_clustering.\")\n",
    "        \n",
    "        plt.figure(figsize=(12, 6))\n",
    "        dendrogram(\n",
    "            self.Z,\n",
    "            labels=labels,\n",
    "            leaf_rotation=90,\n",
    "            leaf_font_size=8,\n",
    "            truncate_mode=truncate_mode,  # Truncate the dendrogram\n",
    "            p=p                          # Number of bottom levels to show\n",
    "        )\n",
    "        plt.title('Дендрограмма')\n",
    "        plt.xlabel('Элементы данных')\n",
    "        plt.ylabel('Расстояние')\n",
    "        plt.tight_layout()\n",
    "        plt.show()\n",
    "\n",
    "    def plot_interactive_dendrogram(self, labels=None):\n",
    "        \"\"\"\n",
    "        Построение интерактивной дендрограммы с использованием Plotly.\n",
    "        \n",
    "        :param labels: Optional list of labels (e.g., movie titles) to display on the x-axis.\n",
    "        \"\"\"\n",
    "        if self.Z is None:\n",
    "            raise ValueError(\"Кластеризация не выполнена. Сначала выполните perform_clustering.\")\n",
    "        \n",
    "        fig = ff.create_dendrogram(\n",
    "            self.data,\n",
    "            labels=labels,\n",
    "            linkagefun=lambda x: self.Z\n",
    "        )\n",
    "        fig.update_layout(\n",
    "            title=\"Интерактивная Дендрограмма\",\n",
    "            xaxis_title=\"Элементы данных\",\n",
    "            yaxis_title=\"Расстояние\",\n",
    "            width=1200,\n",
    "            height=600\n",
    "        )\n",
    "        fig.show()\n",
    "\n",
    "\n",
    "# Данные\n",
    "data = np.array([\n",
    "    [11.5, 6.9],\n",
    "    [20.1, 11.1],\n",
    "    [34.2, 21.3],\n",
    "    [22.1, 20.5],\n",
    "    [13.4, 9.7],\n",
    "    [29.4, 18.2]\n",
    "])\n",
    "\n",
    "hc = HierarchicalClustering(data, p=2, method='complete')\n",
    "hc.calculate_distances()\n",
    "hc.perform_clustering()\n",
    "hc.plot_dendrogram()"
   ]
  },
  {
   "cell_type": "markdown",
   "metadata": {},
   "source": [
    "# Реализация на SciPy (для проверки)"
   ]
  },
  {
   "cell_type": "code",
   "execution_count": 12,
   "metadata": {},
   "outputs": [
    {
     "data": {
      "image/png": "[encoded data removed]",
      "text/plain": [
       "<Figure size 1000x500 with 1 Axes>"
      ]
     },
     "metadata": {},
     "output_type": "display_data"
    }
   ],
   "source": [
    "import numpy as np\n",
    "from scipy.spatial.distance import pdist, squareform\n",
    "from scipy.cluster.hierarchy import linkage, fcluster, dendrogram\n",
    "import matplotlib.pyplot as plt\n",
    "\n",
    "class SciPyHierarchicalClustering:\n",
    "    def __init__(self, data, p=2, method='single'):\n",
    "        \"\"\"\n",
    "        Инициализация объекта для иерархической кластеризации.\n",
    "\n",
    "        :param data: Данные для кластеризации (numpy array).\n",
    "        :param p: Параметр для метрики Минковского (по умолчанию 2, что соответствует евклидову расстоянию).\n",
    "        :param method: Метод кластеризации (по умолчанию 'single').\n",
    "        \"\"\"\n",
    "        self.data = data\n",
    "        self.p = p\n",
    "        self.method = method\n",
    "        self.distances = None\n",
    "        self.distance_matrix = None\n",
    "        self.Z = None\n",
    "        self.labels = None\n",
    "\n",
    "    def calculate_distances(self):\n",
    "        \"\"\"Вычисление попарных расстояний между точками с использованием scipy.\"\"\"\n",
    "        self.distances = pdist(self.data, metric='minkowski', p=1)\n",
    "        self.distance_matrix = squareform(self.distances)\n",
    "\n",
    "    def perform_clustering(self):\n",
    "        \"\"\"Выполнение иерархической кластеризации с использованием scipy.\"\"\"\n",
    "        if self.distances is None:\n",
    "            raise ValueError(\"Расстояния не вычислены. Сначала выполните calculate_distances.\")\n",
    "        self.Z = linkage(self.distances, method=self.method)\n",
    "\n",
    "    def get_cluster_labels(self, t):\n",
    "        \"\"\"Получение меток кластеров для заданного порога с использованием scipy.\"\"\"\n",
    "        if self.Z is None:\n",
    "            raise ValueError(\"Кластеризация не выполнена. Сначала выполните perform_clustering.\")\n",
    "        self.labels = fcluster(self.Z, t, criterion='distance')\n",
    "        return self.labels\n",
    "\n",
    "    def plot_dendrogram(self):\n",
    "        \"\"\"Построение дендрограммы.\"\"\"\n",
    "        if self.Z is None:\n",
    "            raise ValueError(\"Кластеризация не выполнена. Сначала выполните perform_clustering.\")\n",
    "        plt.figure(figsize=(10, 5))\n",
    "        dendrogram(self.Z)\n",
    "        plt.title('Дендрограмма')\n",
    "        plt.xlabel('Индексы данных')\n",
    "        plt.ylabel('Расстояние')\n",
    "        plt.show()\n",
    "\n",
    "data = np.array([\n",
    "    [11.5, 6.9],\n",
    "    [20.1, 11.1],\n",
    "    [34.2, 21.3],\n",
    "    [22.1, 20.5],\n",
    "    [13.4, 9.7],\n",
    "    [29.4, 18.2]\n",
    "])\n",
    "\n",
    "scipy_hc = SciPyHierarchicalClustering(data)\n",
    "scipy_hc.calculate_distances()\n",
    "scipy_hc.perform_clustering()\n",
    "scipy_hc.plot_dendrogram()"
   ]
  },
  {
   "cell_type": "code",
   "execution_count": 13,
   "metadata": {},
   "outputs": [
    {
     "name": "stdout",
     "output_type": "stream",
     "text": [
      "Значение функционала Q(C): 66.2916666666667\n"
     ]
    }
   ],
   "source": [
    "def calculate_functional(data, labels):\n",
    "    \"\"\"\n",
    "    Вычисление функционала Q(C) по формуле.\n",
    "\n",
    "    :param data: Данные (numpy array, shape (n_samples, n_features)).\n",
    "    :param labels: Метки кластеров (numpy array, shape (n_samples,)).\n",
    "    :return: Значение функционала Q(C).\n",
    "    \"\"\"\n",
    "    unique_labels = np.unique(labels)\n",
    "    functional_value = 0.0\n",
    "\n",
    "    for label in unique_labels:\n",
    "        cluster_points = data[labels == label]  # Точки в текущем кластере\n",
    "        centroid = np.mean(cluster_points, axis=0)  # Центроид кластера\n",
    "        distances = np.sum((cluster_points - centroid) ** 2, axis=1)  # Квадраты расстояний до центроида\n",
    "        functional_value += np.sum(distances)  # Суммируем для кластера\n",
    "\n",
    "    return functional_value\n",
    "\n",
    "# Получение меток кластеров для заданного порога\n",
    "threshold = 10  # Example threshold\n",
    "labels = hc.get_cluster_labels(threshold)\n",
    "\n",
    "# Вычисление функционала Q(C)\n",
    "functional_value = calculate_functional(data, labels)\n",
    "print(f\"Значение функционала Q(C): {functional_value}\")"
   ]
  },
  {
   "cell_type": "markdown",
   "metadata": {},
   "source": [
    "# Тест с датасетом Kaggle"
   ]
  },
  {
   "cell_type": "code",
   "execution_count": 14,
   "metadata": {},
   "outputs": [
    {
     "data": {
      "text/html": [
       "<div>\n",
       "<style scoped>\n",
       "    .dataframe tbody tr th:only-of-type {\n",
       "        vertical-align: middle;\n",
       "    }\n",
       "\n",
       "    .dataframe tbody tr th {\n",
       "        vertical-align: top;\n",
       "    }\n",
       "\n",
       "    .dataframe thead th {\n",
       "        text-align: right;\n",
       "    }\n",
       "</style>\n",
       "<table border=\"1\" class=\"dataframe\">\n",
       "  <thead>\n",
       "    <tr style=\"text-align: right;\">\n",
       "      <th></th>\n",
       "      <th>show_id</th>\n",
       "      <th>type</th>\n",
       "      <th>title</th>\n",
       "      <th>director</th>\n",
       "      <th>cast</th>\n",
       "      <th>country</th>\n",
       "      <th>date_added</th>\n",
       "      <th>release_year</th>\n",
       "      <th>rating</th>\n",
       "      <th>duration</th>\n",
       "      <th>genres</th>\n",
       "      <th>language</th>\n",
       "      <th>description</th>\n",
       "      <th>popularity</th>\n",
       "      <th>vote_count</th>\n",
       "      <th>vote_average</th>\n",
       "      <th>budget</th>\n",
       "      <th>revenue</th>\n",
       "    </tr>\n",
       "  </thead>\n",
       "  <tbody>\n",
       "    <tr>\n",
       "      <th>0</th>\n",
       "      <td>10192</td>\n",
       "      <td>Movie</td>\n",
       "      <td>Shrek Forever After</td>\n",
       "      <td>Mike Mitchell</td>\n",
       "      <td>Mike Myers, Eddie Murphy, Cameron Diaz, Antoni...</td>\n",
       "      <td>United States of America</td>\n",
       "      <td>2010-05-16</td>\n",
       "      <td>2010</td>\n",
       "      <td>6.380</td>\n",
       "      <td>NaN</td>\n",
       "      <td>Comedy, Adventure, Fantasy, Animation, Family</td>\n",
       "      <td>en</td>\n",
       "      <td>A bored and domesticated Shrek pacts with deal...</td>\n",
       "      <td>203.893</td>\n",
       "      <td>7449</td>\n",
       "      <td>6.380</td>\n",
       "      <td>165000000</td>\n",
       "      <td>752600867</td>\n",
       "    </tr>\n",
       "    <tr>\n",
       "      <th>1</th>\n",
       "      <td>27205</td>\n",
       "      <td>Movie</td>\n",
       "      <td>Inception</td>\n",
       "      <td>Christopher Nolan</td>\n",
       "      <td>Leonardo DiCaprio, Joseph Gordon-Levitt, Ken W...</td>\n",
       "      <td>United Kingdom, United States of America</td>\n",
       "      <td>2010-07-15</td>\n",
       "      <td>2010</td>\n",
       "      <td>8.369</td>\n",
       "      <td>NaN</td>\n",
       "      <td>Action, Science Fiction, Adventure</td>\n",
       "      <td>en</td>\n",
       "      <td>Cobb, a skilled thief who commits corporate es...</td>\n",
       "      <td>156.242</td>\n",
       "      <td>37119</td>\n",
       "      <td>8.369</td>\n",
       "      <td>160000000</td>\n",
       "      <td>839030630</td>\n",
       "    </tr>\n",
       "    <tr>\n",
       "      <th>2</th>\n",
       "      <td>12444</td>\n",
       "      <td>Movie</td>\n",
       "      <td>Harry Potter and the Deathly Hallows: Part 1</td>\n",
       "      <td>David Yates</td>\n",
       "      <td>Daniel Radcliffe, Emma Watson, Rupert Grint, T...</td>\n",
       "      <td>United Kingdom, United States of America</td>\n",
       "      <td>2010-11-17</td>\n",
       "      <td>2010</td>\n",
       "      <td>7.744</td>\n",
       "      <td>NaN</td>\n",
       "      <td>Adventure, Fantasy</td>\n",
       "      <td>en</td>\n",
       "      <td>Harry, Ron and Hermione walk away from their l...</td>\n",
       "      <td>121.191</td>\n",
       "      <td>19327</td>\n",
       "      <td>7.744</td>\n",
       "      <td>250000000</td>\n",
       "      <td>954305868</td>\n",
       "    </tr>\n",
       "    <tr>\n",
       "      <th>3</th>\n",
       "      <td>38757</td>\n",
       "      <td>Movie</td>\n",
       "      <td>Tangled</td>\n",
       "      <td>Byron Howard, Nathan Greno</td>\n",
       "      <td>Mandy Moore, Zachary Levi, Donna Murphy, Ron P...</td>\n",
       "      <td>United States of America</td>\n",
       "      <td>2010-11-24</td>\n",
       "      <td>2010</td>\n",
       "      <td>7.600</td>\n",
       "      <td>NaN</td>\n",
       "      <td>Animation, Family, Adventure</td>\n",
       "      <td>en</td>\n",
       "      <td>Feisty teenager Rapunzel, who has long and mag...</td>\n",
       "      <td>111.762</td>\n",
       "      <td>11638</td>\n",
       "      <td>7.600</td>\n",
       "      <td>260000000</td>\n",
       "      <td>592461732</td>\n",
       "    </tr>\n",
       "    <tr>\n",
       "      <th>4</th>\n",
       "      <td>10191</td>\n",
       "      <td>Movie</td>\n",
       "      <td>How to Train Your Dragon</td>\n",
       "      <td>Chris Sanders, Dean DeBlois</td>\n",
       "      <td>Jay Baruchel, Gerard Butler, Craig Ferguson, A...</td>\n",
       "      <td>United States of America</td>\n",
       "      <td>2010-03-18</td>\n",
       "      <td>2010</td>\n",
       "      <td>7.800</td>\n",
       "      <td>NaN</td>\n",
       "      <td>Fantasy, Adventure, Animation, Family</td>\n",
       "      <td>en</td>\n",
       "      <td>As the son of a Viking leader on the cusp of m...</td>\n",
       "      <td>110.044</td>\n",
       "      <td>13259</td>\n",
       "      <td>7.800</td>\n",
       "      <td>165000000</td>\n",
       "      <td>494879471</td>\n",
       "    </tr>\n",
       "  </tbody>\n",
       "</table>\n",
       "</div>"
      ],
      "text/plain": [
       "   show_id   type                                         title  \\\n",
       "0    10192  Movie                           Shrek Forever After   \n",
       "1    27205  Movie                                     Inception   \n",
       "2    12444  Movie  Harry Potter and the Deathly Hallows: Part 1   \n",
       "3    38757  Movie                                       Tangled   \n",
       "4    10191  Movie                      How to Train Your Dragon   \n",
       "\n",
       "                      director  \\\n",
       "0                Mike Mitchell   \n",
       "1            Christopher Nolan   \n",
       "2                  David Yates   \n",
       "3   Byron Howard, Nathan Greno   \n",
       "4  Chris Sanders, Dean DeBlois   \n",
       "\n",
       "                                                cast  \\\n",
       "0  Mike Myers, Eddie Murphy, Cameron Diaz, Antoni...   \n",
       "1  Leonardo DiCaprio, Joseph Gordon-Levitt, Ken W...   \n",
       "2  Daniel Radcliffe, Emma Watson, Rupert Grint, T...   \n",
       "3  Mandy Moore, Zachary Levi, Donna Murphy, Ron P...   \n",
       "4  Jay Baruchel, Gerard Butler, Craig Ferguson, A...   \n",
       "\n",
       "                                    country  date_added  release_year  rating  \\\n",
       "0                  United States of America  2010-05-16          2010   6.380   \n",
       "1  United Kingdom, United States of America  2010-07-15          2010   8.369   \n",
       "2  United Kingdom, United States of America  2010-11-17          2010   7.744   \n",
       "3                  United States of America  2010-11-24          2010   7.600   \n",
       "4                  United States of America  2010-03-18          2010   7.800   \n",
       "\n",
       "   duration                                         genres language  \\\n",
       "0       NaN  Comedy, Adventure, Fantasy, Animation, Family       en   \n",
       "1       NaN             Action, Science Fiction, Adventure       en   \n",
       "2       NaN                             Adventure, Fantasy       en   \n",
       "3       NaN                   Animation, Family, Adventure       en   \n",
       "4       NaN          Fantasy, Adventure, Animation, Family       en   \n",
       "\n",
       "                                         description  popularity  vote_count  \\\n",
       "0  A bored and domesticated Shrek pacts with deal...     203.893        7449   \n",
       "1  Cobb, a skilled thief who commits corporate es...     156.242       37119   \n",
       "2  Harry, Ron and Hermione walk away from their l...     121.191       19327   \n",
       "3  Feisty teenager Rapunzel, who has long and mag...     111.762       11638   \n",
       "4  As the son of a Viking leader on the cusp of m...     110.044       13259   \n",
       "\n",
       "   vote_average     budget    revenue  \n",
       "0         6.380  165000000  752600867  \n",
       "1         8.369  160000000  839030630  \n",
       "2         7.744  250000000  954305868  \n",
       "3         7.600  260000000  592461732  \n",
       "4         7.800  165000000  494879471  "
      ]
     },
     "execution_count": 14,
     "metadata": {},
     "output_type": "execute_result"
    }
   ],
   "source": [
    "import pandas as pd\n",
    "\n",
    "# Load the CSV file into a DataFrame\n",
    "file_path = \"netflix_movies_detailed_up_to_2025.csv\"\n",
    "df = pd.read_csv(file_path)\n",
    "\n",
    "# Display the first few rows of the DataFrame\n",
    "df.head()"
   ]
  },
  {
   "cell_type": "code",
   "execution_count": 15,
   "metadata": {},
   "outputs": [
    {
     "data": {
      "image/png": "[encoded data removed]",
      "text/plain": [
       "<Figure size 1200x600 with 1 Axes>"
      ]
     },
     "metadata": {},
     "output_type": "display_data"
    },
    {
     "data": {
      "application/vnd.plotly.v1+json": {
       "config": {
        "plotlyServerURL": "https://plot.ly"
       },
       "data": [
        {
         "hoverinfo": "text",
         "marker": {
          "color": "rgb(61,153,112)"
         },
         "mode": "lines",
         "type": "scatter",
         "x": {
          "bdata": "AAAAAAAALkAAAAAAAAAuQAAAAAAAADlAAAAAAAAAOUA=",
          "dtype": "f8"
         },
         "xaxis": "x",
         "y": {
          "bdata": "AAAAAAAAAAB1TpZLRAAzQHVOlktEADNAAAAAAAAAAAA=",
          "dtype": "f8"
         },
         "yaxis": "y"
        },
        {
         "hoverinfo": "text",
         "marker": {
          "color": "rgb(61,153,112)"
         },
         "mode": "lines",
         "type": "scatter",
         "x": {
          "bdata": "AAAAAACAQUAAAAAAAIBBQAAAAAAAgEZAAAAAAACARkA=",
          "dtype": "f8"
         },
         "xaxis": "x",
         "y": {
          "bdata": "AAAAAAAAAABAp5LPLgBMQECnks8uAExAAAAAAAAAAAA=",
          "dtype": "f8"
         },
         "yaxis": "y"
        },
        {
         "hoverinfo": "text",
         "marker": {
          "color": "rgb(61,153,112)"
         },
         "mode": "lines",
         "type": "scatter",
         "x": {
          "bdata": "AAAAAAAANEAAAAAAAAA0QAAAAAAAAERAAAAAAAAAREA=",
          "dtype": "f8"
         },
         "xaxis": "x",
         "y": {
          "bdata": "dU6WS0QAM0CSDHYxAIBqQJIMdjEAgGpAQKeSzy4ATEA=",
          "dtype": "f8"
         },
         "yaxis": "y"
        },
        {
         "hoverinfo": "text",
         "marker": {
          "color": "rgb(61,153,112)"
         },
         "mode": "lines",
         "type": "scatter",
         "x": {
          "bdata": "AAAAAADAUkAAAAAAAMBSQAAAAAAAQFVAAAAAAABAVUA=",
          "dtype": "f8"
         },
         "xaxis": "x",
         "y": {
          "bdata": "AAAAAAAAAABXRGAJtAA+QFdEYAm0AD5AAAAAAAAAAAA=",
          "dtype": "f8"
         },
         "yaxis": "y"
        },
        {
         "hoverinfo": "text",
         "marker": {
          "color": "rgb(61,153,112)"
         },
         "mode": "lines",
         "type": "scatter",
         "x": {
          "bdata": "AAAAAABAUEAAAAAAAEBQQAAAAAAAAFRAAAAAAAAAVEA=",
          "dtype": "f8"
         },
         "xaxis": "x",
         "y": {
          "bdata": "AAAAAAAAAAAo/ISpNIBfQCj8hKk0gF9AV0RgCbQAPkA=",
          "dtype": "f8"
         },
         "yaxis": "y"
        },
        {
         "hoverinfo": "text",
         "marker": {
          "color": "rgb(61,153,112)"
         },
         "mode": "lines",
         "type": "scatter",
         "x": {
          "bdata": "AAAAAACAS0AAAAAAAIBLQAAAAAAAIFJAAAAAAAAgUkA=",
          "dtype": "f8"
         },
         "xaxis": "x",
         "y": {
          "bdata": "AAAAAAAAAABTjEuGBkBsQFOMS4YGQGxAKPyEqTSAX0A=",
          "dtype": "f8"
         },
         "yaxis": "y"
        },
        {
         "hoverinfo": "text",
         "marker": {
          "color": "rgb(61,153,112)"
         },
         "mode": "lines",
         "type": "scatter",
         "x": {
          "bdata": "AAAAAAAAPkAAAAAAAAA+QAAAAAAA4E9AAAAAAADgT0A=",
          "dtype": "f8"
         },
         "xaxis": "x",
         "y": {
          "bdata": "kgx2MQCAakCqnccaAIiLQKqdxxoAiItAU4xLhgZAbEA=",
          "dtype": "f8"
         },
         "yaxis": "y"
        },
        {
         "hoverinfo": "text",
         "marker": {
          "color": "rgb(61,153,112)"
         },
         "mode": "lines",
         "type": "scatter",
         "x": {
          "bdata": "AAAAAADAV0AAAAAAAMBXQAAAAAAAQFpAAAAAAABAWkA=",
          "dtype": "f8"
         },
         "xaxis": "x",
         "y": {
          "bdata": "AAAAAAAAAAAqKavRzoJJQCopq9HOgklAAAAAAAAAAAA=",
          "dtype": "f8"
         },
         "yaxis": "y"
        },
        {
         "hoverinfo": "text",
         "marker": {
          "color": "rgb(61,153,112)"
         },
         "mode": "lines",
         "type": "scatter",
         "x": {
          "bdata": "AAAAAADAXEAAAAAAAMBcQAAAAAAAQF9AAAAAAABAX0A=",
          "dtype": "f8"
         },
         "xaxis": "x",
         "y": {
          "bdata": "AAAAAAAAAADspKUNKMBjQOykpQ0owGNAAAAAAAAAAAA=",
          "dtype": "f8"
         },
         "yaxis": "y"
        },
        {
         "hoverinfo": "text",
         "marker": {
          "color": "rgb(61,153,112)"
         },
         "mode": "lines",
         "type": "scatter",
         "x": {
          "bdata": "AAAAAABgY0AAAAAAAGBjQAAAAAAAoGRAAAAAAACgZEA=",
          "dtype": "f8"
         },
         "xaxis": "x",
         "y": {
          "bdata": "AAAAAAAAAAD7qdJhA4BRQPup0mEDgFFAAAAAAAAAAAA=",
          "dtype": "f8"
         },
         "yaxis": "y"
        },
        {
         "hoverinfo": "text",
         "marker": {
          "color": "rgb(61,153,112)"
         },
         "mode": "lines",
         "type": "scatter",
         "x": {
          "bdata": "AAAAAAAgYkAAAAAAACBiQAAAAAAAAGRAAAAAAAAAZEA=",
          "dtype": "f8"
         },
         "xaxis": "x",
         "y": {
          "bdata": "AAAAAAAAAABRR0mGDaBjQFFHSYYNoGNA+6nSYQOAUUA=",
          "dtype": "f8"
         },
         "yaxis": "y"
        },
        {
         "hoverinfo": "text",
         "marker": {
          "color": "rgb(61,153,112)"
         },
         "mode": "lines",
         "type": "scatter",
         "x": {
          "bdata": "AAAAAADgYEAAAAAAAOBgQAAAAAAAEGNAAAAAAAAQY0A=",
          "dtype": "f8"
         },
         "xaxis": "x",
         "y": {
          "bdata": "AAAAAAAAAADQIh7+ASB3QNAiHv4BIHdAUUdJhg2gY0A=",
          "dtype": "f8"
         },
         "yaxis": "y"
        },
        {
         "hoverinfo": "text",
         "marker": {
          "color": "rgb(61,153,112)"
         },
         "mode": "lines",
         "type": "scatter",
         "x": {
          "bdata": "AAAAAAAAXkAAAAAAAABeQAAAAAAA+GFAAAAAAAD4YUA=",
          "dtype": "f8"
         },
         "xaxis": "x",
         "y": {
          "bdata": "7KSlDSjAY0C1Z7hXAWiHQLVnuFcBaIdA0CIe/gEgd0A=",
          "dtype": "f8"
         },
         "yaxis": "y"
        },
        {
         "hoverinfo": "text",
         "marker": {
          "color": "rgb(61,153,112)"
         },
         "mode": "lines",
         "type": "scatter",
         "x": {
          "bdata": "AAAAAAAAWUAAAAAAAABZQAAAAAAAfGBAAAAAAAB8YEA=",
          "dtype": "f8"
         },
         "xaxis": "x",
         "y": {
          "bdata": "Kimr0c6CSUDKgzUHAOSYQMqDNQcA5JhAtWe4VwFoh0A=",
          "dtype": "f8"
         },
         "yaxis": "y"
        },
        {
         "hoverinfo": "text",
         "marker": {
          "color": "rgb(61,153,112)"
         },
         "mode": "lines",
         "type": "scatter",
         "x": {
          "bdata": "AAAAAABwR0AAAAAAAHBHQAAAAAAA/FxAAAAAAAD8XEA=",
          "dtype": "f8"
         },
         "xaxis": "x",
         "y": {
          "bdata": "qp3HGgCIi0CqHBcCAHalQKocFwIAdqVAyoM1BwDkmEA=",
          "dtype": "f8"
         },
         "yaxis": "y"
        },
        {
         "hoverinfo": "text",
         "marker": {
          "color": "rgb(61,153,112)"
         },
         "mode": "lines",
         "type": "scatter",
         "x": {
          "bdata": "AAAAAAAgZ0AAAAAAACBnQAAAAAAAYGhAAAAAAABgaEA=",
          "dtype": "f8"
         },
         "xaxis": "x",
         "y": {
          "bdata": "AAAAAAAAAAB2RtWpkYwnQHZG1amRjCdAAAAAAAAAAAA=",
          "dtype": "f8"
         },
         "yaxis": "y"
        },
        {
         "hoverinfo": "text",
         "marker": {
          "color": "rgb(61,153,112)"
         },
         "mode": "lines",
         "type": "scatter",
         "x": {
          "bdata": "AAAAAADgZUAAAAAAAOBlQAAAAAAAwGdAAAAAAADAZ0A=",
          "dtype": "f8"
         },
         "xaxis": "x",
         "y": {
          "bdata": "AAAAAAAAAADSG/fCdj89QNIb98J2Pz1AdkbVqZGMJ0A=",
          "dtype": "f8"
         },
         "yaxis": "y"
        },
        {
         "hoverinfo": "text",
         "marker": {
          "color": "rgb(61,153,112)"
         },
         "mode": "lines",
         "type": "scatter",
         "x": {
          "bdata": "AAAAAACgaUAAAAAAAKBpQAAAAAAA4GpAAAAAAADgakA=",
          "dtype": "f8"
         },
         "xaxis": "x",
         "y": {
          "bdata": "AAAAAAAAAADhj2c0AQBRQOGPZzQBAFFAAAAAAAAAAAA=",
          "dtype": "f8"
         },
         "yaxis": "y"
        },
        {
         "hoverinfo": "text",
         "marker": {
          "color": "rgb(61,153,112)"
         },
         "mode": "lines",
         "type": "scatter",
         "x": {
          "bdata": "AAAAAADQZkAAAAAAANBmQAAAAAAAQGpAAAAAAABAakA=",
          "dtype": "f8"
         },
         "xaxis": "x",
         "y": {
          "bdata": "0hv3wnY/PUBSESfozgJkQFIRJ+jOAmRA4Y9nNAEAUUA=",
          "dtype": "f8"
         },
         "yaxis": "y"
        },
        {
         "hoverinfo": "text",
         "marker": {
          "color": "rgb(61,153,112)"
         },
         "mode": "lines",
         "type": "scatter",
         "x": {
          "bdata": "AAAAAABgbUAAAAAAAGBtQAAAAAAAoG5AAAAAAACgbkA=",
          "dtype": "f8"
         },
         "xaxis": "x",
         "y": {
          "bdata": "AAAAAAAAAAAqOk1EGQ0oQCo6TUQZDShAAAAAAAAAAAA=",
          "dtype": "f8"
         },
         "yaxis": "y"
        },
        {
         "hoverinfo": "text",
         "marker": {
          "color": "rgb(61,153,112)"
         },
         "mode": "lines",
         "type": "scatter",
         "x": {
          "bdata": "AAAAAAAgbEAAAAAAACBsQAAAAAAAAG5AAAAAAAAAbkA=",
          "dtype": "f8"
         },
         "xaxis": "x",
         "y": {
          "bdata": "AAAAAAAAAAAOdW8sOkBRQA51byw6QFFAKjpNRBkNKEA=",
          "dtype": "f8"
         },
         "yaxis": "y"
        },
        {
         "hoverinfo": "text",
         "marker": {
          "color": "rgb(61,153,112)"
         },
         "mode": "lines",
         "type": "scatter",
         "x": {
          "bdata": "AAAAAACQcEAAAAAAAJBwQAAAAAAAMHFAAAAAAAAwcUA=",
          "dtype": "f8"
         },
         "xaxis": "x",
         "y": {
          "bdata": "AAAAAAAAAADzh4LWbRQQQPOHgtZtFBBAAAAAAAAAAAA=",
          "dtype": "f8"
         },
         "yaxis": "y"
        },
        {
         "hoverinfo": "text",
         "marker": {
          "color": "rgb(61,153,112)"
         },
         "mode": "lines",
         "type": "scatter",
         "x": {
          "bdata": "AAAAAADgb0AAAAAAAOBvQAAAAAAA4HBAAAAAAADgcEA=",
          "dtype": "f8"
         },
         "xaxis": "x",
         "y": {
          "bdata": "AAAAAAAAAACTQmotagBHQJNCai1qAEdA84eC1m0UEEA=",
          "dtype": "f8"
         },
         "yaxis": "y"
        },
        {
         "hoverinfo": "text",
         "marker": {
          "color": "rgb(61,153,112)"
         },
         "mode": "lines",
         "type": "scatter",
         "x": {
          "bdata": "AAAAAABwckAAAAAAAHByQAAAAAAAEHNAAAAAAAAQc0A=",
          "dtype": "f8"
         },
         "xaxis": "x",
         "y": {
          "bdata": "AAAAAAAAAACvXxA5DBEuQK9fEDkMES5AAAAAAAAAAAA=",
          "dtype": "f8"
         },
         "yaxis": "y"
        },
        {
         "hoverinfo": "text",
         "marker": {
          "color": "rgb(61,153,112)"
         },
         "mode": "lines",
         "type": "scatter",
         "x": {
          "bdata": "AAAAAADQcUAAAAAAANBxQAAAAAAAwHJAAAAAAADAckA=",
          "dtype": "f8"
         },
         "xaxis": "x",
         "y": {
          "bdata": "AAAAAAAAAABC1NrzAIBVQELU2vMAgFVAr18QOQwRLkA=",
          "dtype": "f8"
         },
         "yaxis": "y"
        },
        {
         "hoverinfo": "text",
         "marker": {
          "color": "rgb(61,153,112)"
         },
         "mode": "lines",
         "type": "scatter",
         "x": {
          "bdata": "AAAAAABocEAAAAAAAGhwQAAAAAAASHJAAAAAAABIckA=",
          "dtype": "f8"
         },
         "xaxis": "x",
         "y": {
          "bdata": "k0JqLWoAR0CM1t8SAEBkQIzW3xIAQGRAQtTa8wCAVUA=",
          "dtype": "f8"
         },
         "yaxis": "y"
        },
        {
         "hoverinfo": "text",
         "marker": {
          "color": "rgb(61,153,112)"
         },
         "mode": "lines",
         "type": "scatter",
         "x": {
          "bdata": "AAAAAAAQbUAAAAAAABBtQAAAAAAAWHFAAAAAAABYcUA=",
          "dtype": "f8"
         },
         "xaxis": "x",
         "y": {
          "bdata": "DnVvLDpAUUD88rAWBnB5QPzysBYGcHlAjNbfEgBAZEA=",
          "dtype": "f8"
         },
         "yaxis": "y"
        },
        {
         "hoverinfo": "text",
         "marker": {
          "color": "rgb(61,153,112)"
         },
         "mode": "lines",
         "type": "scatter",
         "x": {
          "bdata": "AAAAAACIaEAAAAAAAIhoQAAAAAAA4G9AAAAAAADgb0A=",
          "dtype": "f8"
         },
         "xaxis": "x",
         "y": {
          "bdata": "UhEn6M4CZECbfPx6JLiHQJt8/HokuIdA/PKwFgZweUA=",
          "dtype": "f8"
         },
         "yaxis": "y"
        },
        {
         "hoverinfo": "text",
         "marker": {
          "color": "rgb(61,153,112)"
         },
         "mode": "lines",
         "type": "scatter",
         "x": {
          "bdata": "AAAAAACwc0AAAAAAALBzQAAAAAAAUHRAAAAAAABQdEA=",
          "dtype": "f8"
         },
         "xaxis": "x",
         "y": {
          "bdata": "AAAAAAAAAAAOFV8F4QIgQA4VXwXhAiBAAAAAAAAAAAA=",
          "dtype": "f8"
         },
         "yaxis": "y"
        },
        {
         "hoverinfo": "text",
         "marker": {
          "color": "rgb(61,153,112)"
         },
         "mode": "lines",
         "type": "scatter",
         "x": {
          "bdata": "AAAAAADwdEAAAAAAAPB0QAAAAAAAkHVAAAAAAACQdUA=",
          "dtype": "f8"
         },
         "xaxis": "x",
         "y": {
          "bdata": "AAAAAAAAAADfNpCZ8QU2QN82kJnxBTZAAAAAAAAAAAA=",
          "dtype": "f8"
         },
         "yaxis": "y"
        },
        {
         "hoverinfo": "text",
         "marker": {
          "color": "rgb(61,153,112)"
         },
         "mode": "lines",
         "type": "scatter",
         "x": {
          "bdata": "AAAAAAAAdEAAAAAAAAB0QAAAAAAAQHVAAAAAAABAdUA=",
          "dtype": "f8"
         },
         "xaxis": "x",
         "y": {
          "bdata": "DhVfBeECIEDSa6jZSwBLQNJrqNlLAEtA3zaQmfEFNkA=",
          "dtype": "f8"
         },
         "yaxis": "y"
        },
        {
         "hoverinfo": "text",
         "marker": {
          "color": "rgb(61,153,112)"
         },
         "mode": "lines",
         "type": "scatter",
         "x": {
          "bdata": "AAAAAADQdkAAAAAAANB2QAAAAAAAcHdAAAAAAABwd0A=",
          "dtype": "f8"
         },
         "xaxis": "x",
         "y": {
          "bdata": "AAAAAAAAAADrvpppfRcQQOu+mml9FxBAAAAAAAAAAAA=",
          "dtype": "f8"
         },
         "yaxis": "y"
        },
        {
         "hoverinfo": "text",
         "marker": {
          "color": "rgb(61,153,112)"
         },
         "mode": "lines",
         "type": "scatter",
         "x": {
          "bdata": "AAAAAAAQeEAAAAAAABB4QAAAAAAAsHhAAAAAAACweEA=",
          "dtype": "f8"
         },
         "xaxis": "x",
         "y": {
          "bdata": "AAAAAAAAAADuDOywzwcqQO4M7LDPBypAAAAAAAAAAAA=",
          "dtype": "f8"
         },
         "yaxis": "y"
        },
        {
         "hoverinfo": "text",
         "marker": {
          "color": "rgb(61,153,112)"
         },
         "mode": "lines",
         "type": "scatter",
         "x": {
          "bdata": "AAAAAAAgd0AAAAAAACB3QAAAAAAAYHhAAAAAAABgeEA=",
          "dtype": "f8"
         },
         "xaxis": "x",
         "y": {
          "bdata": "676aaX0XEEDIUWeumgA9QMhRZ66aAD1A7gzssM8HKkA=",
          "dtype": "f8"
         },
         "yaxis": "y"
        },
        {
         "hoverinfo": "text",
         "marker": {
          "color": "rgb(61,153,112)"
         },
         "mode": "lines",
         "type": "scatter",
         "x": {
          "bdata": "AAAAAAAwdkAAAAAAADB2QAAAAAAAwHdAAAAAAADAd0A=",
          "dtype": "f8"
         },
         "xaxis": "x",
         "y": {
          "bdata": "AAAAAAAAAAA2Jd4TAMBXQDYl3hMAwFdAyFFnrpoAPUA=",
          "dtype": "f8"
         },
         "yaxis": "y"
        },
        {
         "hoverinfo": "text",
         "marker": {
          "color": "rgb(61,153,112)"
         },
         "mode": "lines",
         "type": "scatter",
         "x": {
          "bdata": "AAAAAACgdEAAAAAAAKB0QAAAAAAA+HZAAAAAAAD4dkA=",
          "dtype": "f8"
         },
         "xaxis": "x",
         "y": {
          "bdata": "0muo2UsAS0CenNAEAIBoQJ6c0AQAgGhANiXeEwDAV0A=",
          "dtype": "f8"
         },
         "yaxis": "y"
        },
        {
         "hoverinfo": "text",
         "marker": {
          "color": "rgb(61,153,112)"
         },
         "mode": "lines",
         "type": "scatter",
         "x": {
          "bdata": "AAAAAADweUAAAAAAAPB5QAAAAAAAkHpAAAAAAACQekA=",
          "dtype": "f8"
         },
         "xaxis": "x",
         "y": {
          "bdata": "AAAAAAAAAAAWMckFdYBBQBYxyQV1gEFAAAAAAAAAAAA=",
          "dtype": "f8"
         },
         "yaxis": "y"
        },
        {
         "hoverinfo": "text",
         "marker": {
          "color": "rgb(61,153,112)"
         },
         "mode": "lines",
         "type": "scatter",
         "x": {
          "bdata": "AAAAAABQeUAAAAAAAFB5QAAAAAAAQHpAAAAAAABAekA=",
          "dtype": "f8"
         },
         "xaxis": "x",
         "y": {
          "bdata": "AAAAAAAAAACP4619HQBZQI/jrX0dAFlAFjHJBXWAQUA=",
          "dtype": "f8"
         },
         "yaxis": "y"
        },
        {
         "hoverinfo": "text",
         "marker": {
          "color": "rgb(61,153,112)"
         },
         "mode": "lines",
         "type": "scatter",
         "x": {
          "bdata": "AAAAAABwfEAAAAAAAHB8QAAAAAAAEH1AAAAAAAAQfUA=",
          "dtype": "f8"
         },
         "xaxis": "x",
         "y": {
          "bdata": "AAAAAAAAAACPUnlT4BMUQI9SeVPgExRAAAAAAAAAAAA=",
          "dtype": "f8"
         },
         "yaxis": "y"
        },
        {
         "hoverinfo": "text",
         "marker": {
          "color": "rgb(61,153,112)"
         },
         "mode": "lines",
         "type": "scatter",
         "x": {
          "bdata": "AAAAAADQe0AAAAAAANB7QAAAAAAAwHxAAAAAAADAfEA=",
          "dtype": "f8"
         },
         "xaxis": "x",
         "y": {
          "bdata": "AAAAAAAAAAAucj1NEYBLQC5yPU0RgEtAj1J5U+ATFEA=",
          "dtype": "f8"
         },
         "yaxis": "y"
        },
        {
         "hoverinfo": "text",
         "marker": {
          "color": "rgb(61,153,112)"
         },
         "mode": "lines",
         "type": "scatter",
         "x": {
          "bdata": "AAAAAAAwe0AAAAAAADB7QAAAAAAASHxAAAAAAABIfEA=",
          "dtype": "f8"
         },
         "xaxis": "x",
         "y": {
          "bdata": "AAAAAAAAAAB6cG8+BoBkQHpwbz4GgGRALnI9TRGAS0A=",
          "dtype": "f8"
         },
         "yaxis": "y"
        },
        {
         "hoverinfo": "text",
         "marker": {
          "color": "rgb(61,153,112)"
         },
         "mode": "lines",
         "type": "scatter",
         "x": {
          "bdata": "AAAAAADIeUAAAAAAAMh5QAAAAAAAvHtAAAAAAAC8e0A=",
          "dtype": "f8"
         },
         "xaxis": "x",
         "y": {
          "bdata": "j+OtfR0AWUCEbUKHAfB0QIRtQocB8HRAenBvPgaAZEA=",
          "dtype": "f8"
         },
         "yaxis": "y"
        },
        {
         "hoverinfo": "text",
         "marker": {
          "color": "rgb(61,153,112)"
         },
         "mode": "lines",
         "type": "scatter",
         "x": {
          "bdata": "AAAAAADMdUAAAAAAAMx1QAAAAAAAwnpAAAAAAADCekA=",
          "dtype": "f8"
         },
         "xaxis": "x",
         "y": {
          "bdata": "npzQBACAaEAgXbEjAKiEQCBdsSMAqIRAhG1ChwHwdEA=",
          "dtype": "f8"
         },
         "yaxis": "y"
        },
        {
         "hoverinfo": "text",
         "marker": {
          "color": "rgb(61,153,112)"
         },
         "mode": "lines",
         "type": "scatter",
         "x": {
          "bdata": "AAAAAACwfUAAAAAAALB9QAAAAAAAUH5AAAAAAABQfkA=",
          "dtype": "f8"
         },
         "xaxis": "x",
         "y": {
          "bdata": "AAAAAAAAAADZxHooRQQ0QNnEeihFBDRAAAAAAAAAAAA=",
          "dtype": "f8"
         },
         "yaxis": "y"
        },
        {
         "hoverinfo": "text",
         "marker": {
          "color": "rgb(61,153,112)"
         },
         "mode": "lines",
         "type": "scatter",
         "x": {
          "bdata": "AAAAAADwfkAAAAAAAPB+QAAAAAAAkH9AAAAAAACQf0A=",
          "dtype": "f8"
         },
         "xaxis": "x",
         "y": {
          "bdata": "AAAAAAAAAABC1NrzAIBVQELU2vMAgFVAAAAAAAAAAAA=",
          "dtype": "f8"
         },
         "yaxis": "y"
        },
        {
         "hoverinfo": "text",
         "marker": {
          "color": "rgb(61,153,112)"
         },
         "mode": "lines",
         "type": "scatter",
         "x": {
          "bdata": "AAAAAAAAfkAAAAAAAAB+QAAAAAAAQH9AAAAAAABAf0A=",
          "dtype": "f8"
         },
         "xaxis": "x",
         "y": {
          "bdata": "2cR6KEUENEB2lKSSQGBnQHaUpJJAYGdAQtTa8wCAVUA=",
          "dtype": "f8"
         },
         "yaxis": "y"
        },
        {
         "hoverinfo": "text",
         "marker": {
          "color": "rgb(61,153,112)"
         },
         "mode": "lines",
         "type": "scatter",
         "x": {
          "bdata": "AAAAAAAYgEAAAAAAABiAQAAAAAAAaIBAAAAAAABogEA=",
          "dtype": "f8"
         },
         "xaxis": "x",
         "y": {
          "bdata": "AAAAAAAAAADXMWCaDAA6QNcxYJoMADpAAAAAAAAAAAA=",
          "dtype": "f8"
         },
         "yaxis": "y"
        },
        {
         "hoverinfo": "text",
         "marker": {
          "color": "rgb(61,153,112)"
         },
         "mode": "lines",
         "type": "scatter",
         "x": {
          "bdata": "AAAAAABYgUAAAAAAAFiBQAAAAAAAqIFAAAAAAACogUA=",
          "dtype": "f8"
         },
         "xaxis": "x",
         "y": {
          "bdata": "AAAAAAAAAACXTzstiQEuQJdPOy2JAS5AAAAAAAAAAAA=",
          "dtype": "f8"
         },
         "yaxis": "y"
        },
        {
         "hoverinfo": "text",
         "marker": {
          "color": "rgb(61,153,112)"
         },
         "mode": "lines",
         "type": "scatter",
         "x": {
          "bdata": "AAAAAAAIgUAAAAAAAAiBQAAAAAAAgIFAAAAAAACAgUA=",
          "dtype": "f8"
         },
         "xaxis": "x",
         "y": {
          "bdata": "AAAAAAAAAAClEVGw64VBQKURUbDrhUFAl087LYkBLkA=",
          "dtype": "f8"
         },
         "yaxis": "y"
        },
        {
         "hoverinfo": "text",
         "marker": {
          "color": "rgb(61,153,112)"
         },
         "mode": "lines",
         "type": "scatter",
         "x": {
          "bdata": "AAAAAAD4gUAAAAAAAPiBQAAAAAAASIJAAAAAAABIgkA=",
          "dtype": "f8"
         },
         "xaxis": "x",
         "y": {
          "bdata": "AAAAAAAAAADfmKnHYgQkQN+YqcdiBCRAAAAAAAAAAAA=",
          "dtype": "f8"
         },
         "yaxis": "y"
        },
        {
         "hoverinfo": "text",
         "marker": {
          "color": "rgb(61,153,112)"
         },
         "mode": "lines",
         "type": "scatter",
         "x": {
          "bdata": "AAAAAACYgkAAAAAAAJiCQAAAAAAA6IJAAAAAAADogkA=",
          "dtype": "f8"
         },
         "xaxis": "x",
         "y": {
          "bdata": "AAAAAAAAAAB+XuZ57RsxQH5e5nntGzFAAAAAAAAAAAA=",
          "dtype": "f8"
         },
         "yaxis": "y"
        },
        {
         "hoverinfo": "text",
         "marker": {
          "color": "rgb(61,153,112)"
         },
         "mode": "lines",
         "type": "scatter",
         "x": {
          "bdata": "AAAAAAAggkAAAAAAACCCQAAAAAAAwIJAAAAAAADAgkA=",
          "dtype": "f8"
         },
         "xaxis": "x",
         "y": {
          "bdata": "35ipx2IEJEAX+XcdAwBDQBf5dx0DAENAfl7mee0bMUA=",
          "dtype": "f8"
         },
         "yaxis": "y"
        },
        {
         "hoverinfo": "text",
         "marker": {
          "color": "rgb(61,153,112)"
         },
         "mode": "lines",
         "type": "scatter",
         "x": {
          "bdata": "AAAAAABEgUAAAAAAAESBQAAAAAAAcIJAAAAAAABwgkA=",
          "dtype": "f8"
         },
         "xaxis": "x",
         "y": {
          "bdata": "pRFRsOuFQUAj3b8UAEBVQCPdvxQAQFVAF/l3HQMAQ0A=",
          "dtype": "f8"
         },
         "yaxis": "y"
        },
        {
         "hoverinfo": "text",
         "marker": {
          "color": "rgb(61,153,112)"
         },
         "mode": "lines",
         "type": "scatter",
         "x": {
          "bdata": "AAAAAAC4gEAAAAAAALiAQAAAAAAA2oFAAAAAAADagUA=",
          "dtype": "f8"
         },
         "xaxis": "x",
         "y": {
          "bdata": "AAAAAAAAAABXszZBBqBiQFezNkEGoGJAI92/FABAVUA=",
          "dtype": "f8"
         },
         "yaxis": "y"
        },
        {
         "hoverinfo": "text",
         "marker": {
          "color": "rgb(61,153,112)"
         },
         "mode": "lines",
         "type": "scatter",
         "x": {
          "bdata": "AAAAAABAgEAAAAAAAECAQAAAAAAASYFAAAAAAABJgUA=",
          "dtype": "f8"
         },
         "xaxis": "x",
         "y": {
          "bdata": "1zFgmgwAOkC1vpifAUB6QLW+mJ8BQHpAV7M2QQagYkA=",
          "dtype": "f8"
         },
         "yaxis": "y"
        },
        {
         "hoverinfo": "text",
         "marker": {
          "color": "rgb(61,153,112)"
         },
         "mode": "lines",
         "type": "scatter",
         "x": {
          "bdata": "AAAAAACgfkAAAAAAAKB+QAAAAACAxIBAAAAAAIDEgEA=",
          "dtype": "f8"
         },
         "xaxis": "x",
         "y": {
          "bdata": "dpSkkkBgZ0ACUDHhAlCGQAJQMeECUIZAtb6YnwFAekA=",
          "dtype": "f8"
         },
         "yaxis": "y"
        },
        {
         "hoverinfo": "text",
         "marker": {
          "color": "rgb(61,153,112)"
         },
         "mode": "lines",
         "type": "scatter",
         "x": {
          "bdata": "AAAAAABHeEAAAAAAAEd4QAAAAABACoBAAAAAAEAKgEA=",
          "dtype": "f8"
         },
         "xaxis": "x",
         "y": {
          "bdata": "IF2xIwCohEB4zYu+ALyYQHjNi74AvJhAAlAx4QJQhkA=",
          "dtype": "f8"
         },
         "yaxis": "y"
        },
        {
         "hoverinfo": "text",
         "marker": {
          "color": "rgb(61,153,112)"
         },
         "mode": "lines",
         "type": "scatter",
         "x": {
          "bdata": "AAAAAAA0bEAAAAAAADRsQAAAAADALXxAAAAAAMAtfEA=",
          "dtype": "f8"
         },
         "xaxis": "x",
         "y": {
          "bdata": "m3z8eiS4h0BWTkKiAZajQFZOQqIBlqNAeM2LvgC8mEA=",
          "dtype": "f8"
         },
         "yaxis": "y"
        },
        {
         "hoverinfo": "text",
         "marker": {
          "color": "rgb(61,153,112)"
         },
         "mode": "lines",
         "type": "scatter",
         "x": {
          "bdata": "AAAAAACIg0AAAAAAAIiDQAAAAAAA2INAAAAAAADYg0A=",
          "dtype": "f8"
         },
         "xaxis": "x",
         "y": {
          "bdata": "AAAAAAAAAACTabwA4FImQJNpvADgUiZAAAAAAAAAAAA=",
          "dtype": "f8"
         },
         "yaxis": "y"
        },
        {
         "hoverinfo": "text",
         "marker": {
          "color": "rgb(61,153,112)"
         },
         "mode": "lines",
         "type": "scatter",
         "x": {
          "bdata": "AAAAAAA4g0AAAAAAADiDQAAAAAAAsINAAAAAAACwg0A=",
          "dtype": "f8"
         },
         "xaxis": "x",
         "y": {
          "bdata": "AAAAAAAAAAACmev+EkBRQAKZ6/4SQFFAk2m8AOBSJkA=",
          "dtype": "f8"
         },
         "yaxis": "y"
        },
        {
         "hoverinfo": "text",
         "marker": {
          "color": "rgb(61,153,112)"
         },
         "mode": "lines",
         "type": "scatter",
         "x": {
          "bdata": "AAAAAAB4hEAAAAAAAHiEQAAAAAAAyIRAAAAAAADIhEA=",
          "dtype": "f8"
         },
         "xaxis": "x",
         "y": {
          "bdata": "AAAAAAAAAAA18l0e/RoYQDXyXR79GhhAAAAAAAAAAAA=",
          "dtype": "f8"
         },
         "yaxis": "y"
        },
        {
         "hoverinfo": "text",
         "marker": {
          "color": "rgb(61,153,112)"
         },
         "mode": "lines",
         "type": "scatter",
         "x": {
          "bdata": "AAAAAAAohEAAAAAAACiEQAAAAAAAoIRAAAAAAACghEA=",
          "dtype": "f8"
         },
         "xaxis": "x",
         "y": {
          "bdata": "AAAAAAAAAACPZasm/AcsQI9lqyb8ByxANfJdHv0aGEA=",
          "dtype": "f8"
         },
         "yaxis": "y"
        },
        {
         "hoverinfo": "text",
         "marker": {
          "color": "rgb(61,153,112)"
         },
         "mode": "lines",
         "type": "scatter",
         "x": {
          "bdata": "AAAAAAAYhUAAAAAAABiFQAAAAAAAaIVAAAAAAABohUA=",
          "dtype": "f8"
         },
         "xaxis": "x",
         "y": {
          "bdata": "AAAAAAAAAACC4q3WfwksQILirdZ/CSxAAAAAAAAAAAA=",
          "dtype": "f8"
         },
         "yaxis": "y"
        },
        {
         "hoverinfo": "text",
         "marker": {
          "color": "rgb(61,153,112)"
         },
         "mode": "lines",
         "type": "scatter",
         "x": {
          "bdata": "AAAAAABkhEAAAAAAAGSEQAAAAAAAQIVAAAAAAABAhUA=",
          "dtype": "f8"
         },
         "xaxis": "x",
         "y": {
          "bdata": "j2WrJvwHLEDNH/ceD0BTQM0f9x4PQFNAguKt1n8JLEA=",
          "dtype": "f8"
         },
         "yaxis": "y"
        },
        {
         "hoverinfo": "text",
         "marker": {
          "color": "rgb(61,153,112)"
         },
         "mode": "lines",
         "type": "scatter",
         "x": {
          "bdata": "AAAAAAB0g0AAAAAAAHSDQAAAAAAA0oRAAAAAAADShEA=",
          "dtype": "f8"
         },
         "xaxis": "x",
         "y": {
          "bdata": "Apnr/hJAUUDV9vH8FKBtQNX28fwUoG1AzR/3Hg9AU0A=",
          "dtype": "f8"
         },
         "yaxis": "y"
        },
        {
         "hoverinfo": "text",
         "marker": {
          "color": "rgb(61,153,112)"
         },
         "mode": "lines",
         "type": "scatter",
         "x": {
          "bdata": "AAAAAAC4hUAAAAAAALiFQAAAAAAACIZAAAAAAAAIhkA=",
          "dtype": "f8"
         },
         "xaxis": "x",
         "y": {
          "bdata": "AAAAAAAAAADSa6jZSwBLQNJrqNlLAEtAAAAAAAAAAAA=",
          "dtype": "f8"
         },
         "yaxis": "y"
        },
        {
         "hoverinfo": "text",
         "marker": {
          "color": "rgb(61,153,112)"
         },
         "mode": "lines",
         "type": "scatter",
         "x": {
          "bdata": "AAAAAAD4hkAAAAAAAPiGQAAAAAAASIdAAAAAAABIh0A=",
          "dtype": "f8"
         },
         "xaxis": "x",
         "y": {
          "bdata": "AAAAAAAAAAB9ToiSvJQVQH1OiJK8lBVAAAAAAAAAAAA=",
          "dtype": "f8"
         },
         "yaxis": "y"
        },
        {
         "hoverinfo": "text",
         "marker": {
          "color": "rgb(61,153,112)"
         },
         "mode": "lines",
         "type": "scatter",
         "x": {
          "bdata": "AAAAAACohkAAAAAAAKiGQAAAAAAAIIdAAAAAAAAgh0A=",
          "dtype": "f8"
         },
         "xaxis": "x",
         "y": {
          "bdata": "AAAAAAAAAADYNGuTMYBAQNg0a5MxgEBAfU6IkryUFUA=",
          "dtype": "f8"
         },
         "yaxis": "y"
        },
        {
         "hoverinfo": "text",
         "marker": {
          "color": "rgb(61,153,112)"
         },
         "mode": "lines",
         "type": "scatter",
         "x": {
          "bdata": "AAAAAABYhkAAAAAAAFiGQAAAAAAA5IZAAAAAAADkhkA=",
          "dtype": "f8"
         },
         "xaxis": "x",
         "y": {
          "bdata": "AAAAAAAAAACeoI3WF8BqQJ6gjdYXwGpA2DRrkzGAQEA=",
          "dtype": "f8"
         },
         "yaxis": "y"
        },
        {
         "hoverinfo": "text",
         "marker": {
          "color": "rgb(61,153,112)"
         },
         "mode": "lines",
         "type": "scatter",
         "x": {
          "bdata": "AAAAAADghUAAAAAAAOCFQAAAAAAAnoZAAAAAAACehkA=",
          "dtype": "f8"
         },
         "xaxis": "x",
         "y": {
          "bdata": "0muo2UsAS0BFkvnQA9CAQEWS+dAD0IBAnqCN1hfAakA=",
          "dtype": "f8"
         },
         "yaxis": "y"
        },
        {
         "hoverinfo": "text",
         "marker": {
          "color": "rgb(61,153,112)"
         },
         "mode": "lines",
         "type": "scatter",
         "x": {
          "bdata": "AAAAAAAjhEAAAAAAACOEQAAAAAAAP4ZAAAAAAAA/hkA=",
          "dtype": "f8"
         },
         "xaxis": "x",
         "y": {
          "bdata": "1fbx/BSgbUCeCxKIAICNQJ4LEogAgI1ARZL50APQgEA=",
          "dtype": "f8"
         },
         "yaxis": "y"
        },
        {
         "hoverinfo": "text",
         "marker": {
          "color": "rgb(61,153,112)"
         },
         "mode": "lines",
         "type": "scatter",
         "x": {
          "bdata": "AAAAAADoh0AAAAAAAOiHQAAAAAAAOIhAAAAAAAA4iEA=",
          "dtype": "f8"
         },
         "xaxis": "x",
         "y": {
          "bdata": "AAAAAAAAAAAH8NglBMBTQAfw2CUEwFNAAAAAAAAAAAA=",
          "dtype": "f8"
         },
         "yaxis": "y"
        },
        {
         "hoverinfo": "text",
         "marker": {
          "color": "rgb(61,153,112)"
         },
         "mode": "lines",
         "type": "scatter",
         "x": {
          "bdata": "AAAAAACYh0AAAAAAAJiHQAAAAAAAEIhAAAAAAAAQiEA=",
          "dtype": "f8"
         },
         "xaxis": "x",
         "y": {
          "bdata": "AAAAAAAAAAD7Zy6EDoBrQPtnLoQOgGtAB/DYJQTAU0A=",
          "dtype": "f8"
         },
         "yaxis": "y"
        },
        {
         "hoverinfo": "text",
         "marker": {
          "color": "rgb(61,153,112)"
         },
         "mode": "lines",
         "type": "scatter",
         "x": {
          "bdata": "AAAAAACIiEAAAAAAAIiIQAAAAAAA2IhAAAAAAADYiEA=",
          "dtype": "f8"
         },
         "xaxis": "x",
         "y": {
          "bdata": "AAAAAAAAAAAAAAAAAABVQAAAAAAAAFVAAAAAAAAAAAA=",
          "dtype": "f8"
         },
         "yaxis": "y"
        },
        {
         "hoverinfo": "text",
         "marker": {
          "color": "rgb(61,153,112)"
         },
         "mode": "lines",
         "type": "scatter",
         "x": {
          "bdata": "AAAAAAB4iUAAAAAAAHiJQAAAAAAAyIlAAAAAAADIiUA=",
          "dtype": "f8"
         },
         "xaxis": "x",
         "y": {
          "bdata": "AAAAAAAAAABAtvP91HjJP0C28/3UeMk/AAAAAAAAAAA=",
          "dtype": "f8"
         },
         "yaxis": "y"
        },
        {
         "hoverinfo": "text",
         "marker": {
          "color": "rgb(61,153,112)"
         },
         "mode": "lines",
         "type": "scatter",
         "x": {
          "bdata": "AAAAAAAoiUAAAAAAACiJQAAAAAAAoIlAAAAAAACgiUA=",
          "dtype": "f8"
         },
         "xaxis": "x",
         "y": {
          "bdata": "AAAAAAAAAACIKT0jJsBgQIgpPSMmwGBAQLbz/dR4yT8=",
          "dtype": "f8"
         },
         "yaxis": "y"
        },
        {
         "hoverinfo": "text",
         "marker": {
          "color": "rgb(61,153,112)"
         },
         "mode": "lines",
         "type": "scatter",
         "x": {
          "bdata": "AAAAAACwiEAAAAAAALCIQAAAAAAAZIlAAAAAAABkiUA=",
          "dtype": "f8"
         },
         "xaxis": "x",
         "y": {
          "bdata": "AAAAAAAAVUDtc9FrBSBzQO1z0WsFIHNAiCk9IybAYEA=",
          "dtype": "f8"
         },
         "yaxis": "y"
        },
        {
         "hoverinfo": "text",
         "marker": {
          "color": "rgb(61,153,112)"
         },
         "mode": "lines",
         "type": "scatter",
         "x": {
          "bdata": "AAAAAADUh0AAAAAAANSHQAAAAAAAColAAAAAAAAKiUA=",
          "dtype": "f8"
         },
         "xaxis": "x",
         "y": {
          "bdata": "+2cuhA6Aa0Dx1owgACiEQPHWjCAAKIRA7XPRawUgc0A=",
          "dtype": "f8"
         },
         "yaxis": "y"
        },
        {
         "hoverinfo": "text",
         "marker": {
          "color": "rgb(61,153,112)"
         },
         "mode": "lines",
         "type": "scatter",
         "x": {
          "bdata": "AAAAAABoikAAAAAAAGiKQAAAAAAAuIpAAAAAAAC4ikA=",
          "dtype": "f8"
         },
         "xaxis": "x",
         "y": {
          "bdata": "AAAAAAAAAAArXv0tAQAAQCte/S0BAABAAAAAAAAAAAA=",
          "dtype": "f8"
         },
         "yaxis": "y"
        },
        {
         "hoverinfo": "text",
         "marker": {
          "color": "rgb(61,153,112)"
         },
         "mode": "lines",
         "type": "scatter",
         "x": {
          "bdata": "AAAAAAAYikAAAAAAABiKQAAAAAAAkIpAAAAAAACQikA=",
          "dtype": "f8"
         },
         "xaxis": "x",
         "y": {
          "bdata": "AAAAAAAAAADBkr8tAWBhQMGSvy0BYGFAK179LQEAAEA=",
          "dtype": "f8"
         },
         "yaxis": "y"
        },
        {
         "hoverinfo": "text",
         "marker": {
          "color": "rgb(61,153,112)"
         },
         "mode": "lines",
         "type": "scatter",
         "x": {
          "bdata": "AAAAAABYi0AAAAAAAFiLQAAAAAAAqItAAAAAAACoi0A=",
          "dtype": "f8"
         },
         "xaxis": "x",
         "y": {
          "bdata": "AAAAAAAAAAAAAAAAAABEQAAAAAAAAERAAAAAAAAAAAA=",
          "dtype": "f8"
         },
         "yaxis": "y"
        },
        {
         "hoverinfo": "text",
         "marker": {
          "color": "rgb(61,153,112)"
         },
         "mode": "lines",
         "type": "scatter",
         "x": {
          "bdata": "AAAAAAAIi0AAAAAAAAiLQAAAAAAAgItAAAAAAACAi0A=",
          "dtype": "f8"
         },
         "xaxis": "x",
         "y": {
          "bdata": "AAAAAAAAAABRy2d3M8BsQFHLZ3czwGxAAAAAAAAAREA=",
          "dtype": "f8"
         },
         "yaxis": "y"
        },
        {
         "hoverinfo": "text",
         "marker": {
          "color": "rgb(61,153,112)"
         },
         "mode": "lines",
         "type": "scatter",
         "x": {
          "bdata": "AAAAAABUikAAAAAAAFSKQAAAAAAARItAAAAAAABEi0A=",
          "dtype": "f8"
         },
         "xaxis": "x",
         "y": {
          "bdata": "wZK/LQFgYUBQ85L1BOiEQFDzkvUE6IRAUctndzPAbEA=",
          "dtype": "f8"
         },
         "yaxis": "y"
        },
        {
         "hoverinfo": "text",
         "marker": {
          "color": "rgb(61,153,112)"
         },
         "mode": "lines",
         "type": "scatter",
         "x": {
          "bdata": "AAAAAABviEAAAAAAAG+IQAAAAAAAzIpAAAAAAADMikA=",
          "dtype": "f8"
         },
         "xaxis": "x",
         "y": {
          "bdata": "8daMIAAohEBzWaEGAUSZQHNZoQYBRJlAUPOS9QTohEA=",
          "dtype": "f8"
         },
         "yaxis": "y"
        },
        {
         "hoverinfo": "text",
         "marker": {
          "color": "rgb(61,153,112)"
         },
         "mode": "lines",
         "type": "scatter",
         "x": {
          "bdata": "AAAAAAAxhUAAAAAAADGFQAAAAACAnYlAAAAAAICdiUA=",
          "dtype": "f8"
         },
         "xaxis": "x",
         "y": {
          "bdata": "ngsSiACAjUDkmoYFACqnQOSahgUAKqdAc1mhBgFEmUA=",
          "dtype": "f8"
         },
         "yaxis": "y"
        },
        {
         "hoverinfo": "text",
         "marker": {
          "color": "rgb(61,153,112)"
         },
         "mode": "lines",
         "type": "scatter",
         "x": {
          "bdata": "AAAAAOAjdUAAAAAA4CN1QAAAAABAZ4dAAAAAAEBnh0A=",
          "dtype": "f8"
         },
         "xaxis": "x",
         "y": {
          "bdata": "Vk5CogGWo0AhaOFwAPS1QCFo4XAA9LVA5JqGBQAqp0A=",
          "dtype": "f8"
         },
         "yaxis": "y"
        },
        {
         "hoverinfo": "text",
         "marker": {
          "color": "rgb(61,153,112)"
         },
         "mode": "lines",
         "type": "scatter",
         "x": {
          "bdata": "AAAAAABaVEAAAAAAAFpUQAAAAACY/IBAAAAAAJj8gEA=",
          "dtype": "f8"
         },
         "xaxis": "x",
         "y": {
          "bdata": "qhwXAgB2pUAl+swgAD7BQCX6zCAAPsFAIWjhcAD0tUA=",
          "dtype": "f8"
         },
         "yaxis": "y"
        },
        {
         "hoverinfo": "text",
         "marker": {
          "color": "rgb(61,153,112)"
         },
         "mode": "lines",
         "type": "scatter",
         "x": {
          "bdata": "AAAAAABIjEAAAAAAAEiMQAAAAAAAmIxAAAAAAACYjEA=",
          "dtype": "f8"
         },
         "xaxis": "x",
         "y": {
          "bdata": "AAAAAAAAAAA7lUlYFABXQDuVSVgUAFdAAAAAAAAAAAA=",
          "dtype": "f8"
         },
         "yaxis": "y"
        },
        {
         "hoverinfo": "text",
         "marker": {
          "color": "rgb(61,153,112)"
         },
         "mode": "lines",
         "type": "scatter",
         "x": {
          "bdata": "AAAAAAD4i0AAAAAAAPiLQAAAAAAAcIxAAAAAAABwjEA=",
          "dtype": "f8"
         },
         "xaxis": "x",
         "y": {
          "bdata": "AAAAAAAAAAAhy84VADiEQCHLzhUAOIRAO5VJWBQAV0A=",
          "dtype": "f8"
         },
         "yaxis": "y"
        },
        {
         "hoverinfo": "text",
         "marker": {
          "color": "rgb(61,153,112)"
         },
         "mode": "lines",
         "type": "scatter",
         "x": {
          "bdata": "AAAAAAA4jUAAAAAAADiNQAAAAAAAiI1AAAAAAACIjUA=",
          "dtype": "f8"
         },
         "xaxis": "x",
         "y": {
          "bdata": "AAAAAAAAAAAWKjo1AKBoQBYqOjUAoGhAAAAAAAAAAAA=",
          "dtype": "f8"
         },
         "yaxis": "y"
        },
        {
         "hoverinfo": "text",
         "marker": {
          "color": "rgb(61,153,112)"
         },
         "mode": "lines",
         "type": "scatter",
         "x": {
          "bdata": "AAAAAADojEAAAAAAAOiMQAAAAAAAYI1AAAAAAABgjUA=",
          "dtype": "f8"
         },
         "xaxis": "x",
         "y": {
          "bdata": "AAAAAAAAAADBGcprAACDQMEZymsAAINAFio6NQCgaEA=",
          "dtype": "f8"
         },
         "yaxis": "y"
        },
        {
         "hoverinfo": "text",
         "marker": {
          "color": "rgb(61,153,112)"
         },
         "mode": "lines",
         "type": "scatter",
         "x": {
          "bdata": "AAAAAADYjUAAAAAAANiNQAAAAAAAKI5AAAAAAAAojkA=",
          "dtype": "f8"
         },
         "xaxis": "x",
         "y": {
          "bdata": "AAAAAAAAAABFZoG5AbiKQEVmgbkBuIpAAAAAAAAAAAA=",
          "dtype": "f8"
         },
         "yaxis": "y"
        },
        {
         "hoverinfo": "text",
         "marker": {
          "color": "rgb(61,153,112)"
         },
         "mode": "lines",
         "type": "scatter",
         "x": {
          "bdata": "AAAAAAAkjUAAAAAAACSNQAAAAAAAAI5AAAAAAAAAjkA=",
          "dtype": "f8"
         },
         "xaxis": "x",
         "y": {
          "bdata": "wRnKawAAg0Cs0ZoXADyfQKzRmhcAPJ9ARWaBuQG4ikA=",
          "dtype": "f8"
         },
         "yaxis": "y"
        },
        {
         "hoverinfo": "text",
         "marker": {
          "color": "rgb(61,153,112)"
         },
         "mode": "lines",
         "type": "scatter",
         "x": {
          "bdata": "AAAAAAA0jEAAAAAAADSMQAAAAAAAko1AAAAAAACSjUA=",
          "dtype": "f8"
         },
         "xaxis": "x",
         "y": {
          "bdata": "IcvOFQA4hEDPiOUCAEisQM+I5QIASKxArNGaFwA8n0A=",
          "dtype": "f8"
         },
         "yaxis": "y"
        },
        {
         "hoverinfo": "text",
         "marker": {
          "color": "rgb(61,153,112)"
         },
         "mode": "lines",
         "type": "scatter",
         "x": {
          "bdata": "AAAAAADIjkAAAAAAAMiOQAAAAAAAGI9AAAAAAAAYj0A=",
          "dtype": "f8"
         },
         "xaxis": "x",
         "y": {
          "bdata": "AAAAAAAAAAAFMKM9AJydQAUwoz0AnJ1AAAAAAAAAAAA=",
          "dtype": "f8"
         },
         "yaxis": "y"
        },
        {
         "hoverinfo": "text",
         "marker": {
          "color": "rgb(61,153,112)"
         },
         "mode": "lines",
         "type": "scatter",
         "x": {
          "bdata": "AAAAAAB4jkAAAAAAAHiOQAAAAAAA8I5AAAAAAADwjkA=",
          "dtype": "f8"
         },
         "xaxis": "x",
         "y": {
          "bdata": "AAAAAAAAAADnBmABAFuzQOcGYAEAW7NABTCjPQCcnUA=",
          "dtype": "f8"
         },
         "yaxis": "y"
        },
        {
         "hoverinfo": "text",
         "marker": {
          "color": "rgb(61,153,112)"
         },
         "mode": "lines",
         "type": "scatter",
         "x": {
          "bdata": "AAAAAADjjEAAAAAAAOOMQAAAAAAAtI5AAAAAAAC0jkA=",
          "dtype": "f8"
         },
         "xaxis": "x",
         "y": {
          "bdata": "z4jlAgBIrECVa3cAALLIQJVrdwAAsshA5wZgAQBbs0A=",
          "dtype": "f8"
         },
         "yaxis": "y"
        },
        {
         "hoverinfo": "text",
         "marker": {
          "color": "rgb(61,153,112)"
         },
         "mode": "lines",
         "type": "scatter",
         "x": {
          "bdata": "AAAAANiHc0AAAAAA2IdzQAAAAACAy41AAAAAAIDLjUA=",
          "dtype": "f8"
         },
         "xaxis": "x",
         "y": {
          "bdata": "JfrMIAA+wUDjEPgMQLbXQOMQ+AxAttdAlWt3AACyyEA=",
          "dtype": "f8"
         },
         "yaxis": "y"
        },
        {
         "hoverinfo": "text",
         "marker": {
          "color": "rgb(0,116,217)"
         },
         "mode": "lines",
         "type": "scatter",
         "x": {
          "bdata": "AAAAAAAAFEAAAAAAAAAUQAAAAAC2x4NAAAAAALbHg0A=",
          "dtype": "f8"
         },
         "xaxis": "x",
         "y": {
          "bdata": "AAAAAAAAAADq7XkEwB/iQOrteQTAH+JA4xD4DEC210A=",
          "dtype": "f8"
         },
         "yaxis": "y"
        }
       ],
       "layout": {
        "autosize": false,
        "height": 600,
        "hovermode": "closest",
        "showlegend": false,
        "template": {
         "data": {
          "bar": [
           {
            "error_x": {
             "color": "#2a3f5f"
            },
            "error_y": {
             "color": "#2a3f5f"
            },
            "marker": {
             "line": {
              "color": "#E5ECF6",
              "width": 0.5
             },
             "pattern": {
              "fillmode": "overlay",
              "size": 10,
              "solidity": 0.2
             }
            },
            "type": "bar"
           }
          ],
          "barpolar": [
           {
            "marker": {
             "line": {
              "color": "#E5ECF6",
              "width": 0.5
             },
             "pattern": {
              "fillmode": "overlay",
              "size": 10,
              "solidity": 0.2
             }
            },
            "type": "barpolar"
           }
          ],
          "carpet": [
           {
            "aaxis": {
             "endlinecolor": "#2a3f5f",
             "gridcolor": "white",
             "linecolor": "white",
             "minorgridcolor": "white",
             "startlinecolor": "#2a3f5f"
            },
            "baxis": {
             "endlinecolor": "#2a3f5f",
             "gridcolor": "white",
             "linecolor": "white",
             "minorgridcolor": "white",
             "startlinecolor": "#2a3f5f"
            },
            "type": "carpet"
           }
          ],
          "choropleth": [
           {
            "colorbar": {
             "outlinewidth": 0,
             "ticks": ""
            },
            "type": "choropleth"
           }
          ],
          "contour": [
           {
            "colorbar": {
             "outlinewidth": 0,
             "ticks": ""
            },
            "colorscale": [
             [
              0,
              "#0d0887"
             ],
             [
              0.1111111111111111,
              "#46039f"
             ],
             [
              0.2222222222222222,
              "#7201a8"
             ],
             [
              0.3333333333333333,
              "#9c179e"
             ],
             [
              0.4444444444444444,
              "#bd3786"
             ],
             [
              0.5555555555555556,
              "#d8576b"
             ],
             [
              0.6666666666666666,
              "#ed7953"
             ],
             [
              0.7777777777777778,
              "#fb9f3a"
             ],
             [
              0.8888888888888888,
              "#fdca26"
             ],
             [
              1,
              "#f0f921"
             ]
            ],
            "type": "contour"
           }
          ],
          "contourcarpet": [
           {
            "colorbar": {
             "outlinewidth": 0,
             "ticks": ""
            },
            "type": "contourcarpet"
           }
          ],
          "heatmap": [
           {
            "colorbar": {
             "outlinewidth": 0,
             "ticks": ""
            },
            "colorscale": [
             [
              0,
              "#0d0887"
             ],
             [
              0.1111111111111111,
              "#46039f"
             ],
             [
              0.2222222222222222,
              "#7201a8"
             ],
             [
              0.3333333333333333,
              "#9c179e"
             ],
             [
              0.4444444444444444,
              "#bd3786"
             ],
             [
              0.5555555555555556,
              "#d8576b"
             ],
             [
              0.6666666666666666,
              "#ed7953"
             ],
             [
              0.7777777777777778,
              "#fb9f3a"
             ],
             [
              0.8888888888888888,
              "#fdca26"
             ],
             [
              1,
              "#f0f921"
             ]
            ],
            "type": "heatmap"
           }
          ],
          "histogram": [
           {
            "marker": {
             "pattern": {
              "fillmode": "overlay",
              "size": 10,
              "solidity": 0.2
             }
            },
            "type": "histogram"
           }
          ],
          "histogram2d": [
           {
            "colorbar": {
             "outlinewidth": 0,
             "ticks": ""
            },
            "colorscale": [
             [
              0,
              "#0d0887"
             ],
             [
              0.1111111111111111,
              "#46039f"
             ],
             [
              0.2222222222222222,
              "#7201a8"
             ],
             [
              0.3333333333333333,
              "#9c179e"
             ],
             [
              0.4444444444444444,
              "#bd3786"
             ],
             [
              0.5555555555555556,
              "#d8576b"
             ],
             [
              0.6666666666666666,
              "#ed7953"
             ],
             [
              0.7777777777777778,
              "#fb9f3a"
             ],
             [
              0.8888888888888888,
              "#fdca26"
             ],
             [
              1,
              "#f0f921"
             ]
            ],
            "type": "histogram2d"
           }
          ],
          "histogram2dcontour": [
           {
            "colorbar": {
             "outlinewidth": 0,
             "ticks": ""
            },
            "colorscale": [
             [
              0,
              "#0d0887"
             ],
             [
              0.1111111111111111,
              "#46039f"
             ],
             [
              0.2222222222222222,
              "#7201a8"
             ],
             [
              0.3333333333333333,
              "#9c179e"
             ],
             [
              0.4444444444444444,
              "#bd3786"
             ],
             [
              0.5555555555555556,
              "#d8576b"
             ],
             [
              0.6666666666666666,
              "#ed7953"
             ],
             [
              0.7777777777777778,
              "#fb9f3a"
             ],
             [
              0.8888888888888888,
              "#fdca26"
             ],
             [
              1,
              "#f0f921"
             ]
            ],
            "type": "histogram2dcontour"
           }
          ],
          "mesh3d": [
           {
            "colorbar": {
             "outlinewidth": 0,
             "ticks": ""
            },
            "type": "mesh3d"
           }
          ],
          "parcoords": [
           {
            "line": {
             "colorbar": {
              "outlinewidth": 0,
              "ticks": ""
             }
            },
            "type": "parcoords"
           }
          ],
          "pie": [
           {
            "automargin": true,
            "type": "pie"
           }
          ],
          "scatter": [
           {
            "fillpattern": {
             "fillmode": "overlay",
             "size": 10,
             "solidity": 0.2
            },
            "type": "scatter"
           }
          ],
          "scatter3d": [
           {
            "line": {
             "colorbar": {
              "outlinewidth": 0,
              "ticks": ""
             }
            },
            "marker": {
             "colorbar": {
              "outlinewidth": 0,
              "ticks": ""
             }
            },
            "type": "scatter3d"
           }
          ],
          "scattercarpet": [
           {
            "marker": {
             "colorbar": {
              "outlinewidth": 0,
              "ticks": ""
             }
            },
            "type": "scattercarpet"
           }
          ],
          "scattergeo": [
           {
            "marker": {
             "colorbar": {
              "outlinewidth": 0,
              "ticks": ""
             }
            },
            "type": "scattergeo"
           }
          ],
          "scattergl": [
           {
            "marker": {
             "colorbar": {
              "outlinewidth": 0,
              "ticks": ""
             }
            },
            "type": "scattergl"
           }
          ],
          "scattermap": [
           {
            "marker": {
             "colorbar": {
              "outlinewidth": 0,
              "ticks": ""
             }
            },
            "type": "scattermap"
           }
          ],
          "scattermapbox": [
           {
            "marker": {
             "colorbar": {
              "outlinewidth": 0,
              "ticks": ""
             }
            },
            "type": "scattermapbox"
           }
          ],
          "scatterpolar": [
           {
            "marker": {
             "colorbar": {
              "outlinewidth": 0,
              "ticks": ""
             }
            },
            "type": "scatterpolar"
           }
          ],
          "scatterpolargl": [
           {
            "marker": {
             "colorbar": {
              "outlinewidth": 0,
              "ticks": ""
             }
            },
            "type": "scatterpolargl"
           }
          ],
          "scatterternary": [
           {
            "marker": {
             "colorbar": {
              "outlinewidth": 0,
              "ticks": ""
             }
            },
            "type": "scatterternary"
           }
          ],
          "surface": [
           {
            "colorbar": {
             "outlinewidth": 0,
             "ticks": ""
            },
            "colorscale": [
             [
              0,
              "#0d0887"
             ],
             [
              0.1111111111111111,
              "#46039f"
             ],
             [
              0.2222222222222222,
              "#7201a8"
             ],
             [
              0.3333333333333333,
              "#9c179e"
             ],
             [
              0.4444444444444444,
              "#bd3786"
             ],
             [
              0.5555555555555556,
              "#d8576b"
             ],
             [
              0.6666666666666666,
              "#ed7953"
             ],
             [
              0.7777777777777778,
              "#fb9f3a"
             ],
             [
              0.8888888888888888,
              "#fdca26"
             ],
             [
              1,
              "#f0f921"
             ]
            ],
            "type": "surface"
           }
          ],
          "table": [
           {
            "cells": {
             "fill": {
              "color": "#EBF0F8"
             },
             "line": {
              "color": "white"
             }
            },
            "header": {
             "fill": {
              "color": "#C8D4E3"
             },
             "line": {
              "color": "white"
             }
            },
            "type": "table"
           }
          ]
         },
         "layout": {
          "annotationdefaults": {
           "arrowcolor": "#2a3f5f",
           "arrowhead": 0,
           "arrowwidth": 1
          },
          "autotypenumbers": "strict",
          "coloraxis": {
           "colorbar": {
            "outlinewidth": 0,
            "ticks": ""
           }
          },
          "colorscale": {
           "diverging": [
            [
             0,
             "#8e0152"
            ],
            [
             0.1,
             "#c51b7d"
            ],
            [
             0.2,
             "#de77ae"
            ],
            [
             0.3,
             "#f1b6da"
            ],
            [
             0.4,
             "#fde0ef"
            ],
            [
             0.5,
             "#f7f7f7"
            ],
            [
             0.6,
             "#e6f5d0"
            ],
            [
             0.7,
             "#b8e186"
            ],
            [
             0.8,
             "#7fbc41"
            ],
            [
             0.9,
             "#4d9221"
            ],
            [
             1,
             "#276419"
            ]
           ],
           "sequential": [
            [
             0,
             "#0d0887"
            ],
            [
             0.1111111111111111,
             "#46039f"
            ],
            [
             0.2222222222222222,
             "#7201a8"
            ],
            [
             0.3333333333333333,
             "#9c179e"
            ],
            [
             0.4444444444444444,
             "#bd3786"
            ],
            [
             0.5555555555555556,
             "#d8576b"
            ],
            [
             0.6666666666666666,
             "#ed7953"
            ],
            [
             0.7777777777777778,
             "#fb9f3a"
            ],
            [
             0.8888888888888888,
             "#fdca26"
            ],
            [
             1,
             "#f0f921"
            ]
           ],
           "sequentialminus": [
            [
             0,
             "#0d0887"
            ],
            [
             0.1111111111111111,
             "#46039f"
            ],
            [
             0.2222222222222222,
             "#7201a8"
            ],
            [
             0.3333333333333333,
             "#9c179e"
            ],
            [
             0.4444444444444444,
             "#bd3786"
            ],
            [
             0.5555555555555556,
             "#d8576b"
            ],
            [
             0.6666666666666666,
             "#ed7953"
            ],
            [
             0.7777777777777778,
             "#fb9f3a"
            ],
            [
             0.8888888888888888,
             "#fdca26"
            ],
            [
             1,
             "#f0f921"
            ]
           ]
          },
          "colorway": [
           "#636efa",
           "#EF553B",
           "#00cc96",
           "#ab63fa",
           "#FFA15A",
           "#19d3f3",
           "#FF6692",
           "#B6E880",
           "#FF97FF",
           "#FECB52"
          ],
          "font": {
           "color": "#2a3f5f"
          },
          "geo": {
           "bgcolor": "white",
           "lakecolor": "white",
           "landcolor": "#E5ECF6",
           "showlakes": true,
           "showland": true,
           "subunitcolor": "white"
          },
          "hoverlabel": {
           "align": "left"
          },
          "hovermode": "closest",
          "mapbox": {
           "style": "light"
          },
          "paper_bgcolor": "white",
          "plot_bgcolor": "#E5ECF6",
          "polar": {
           "angularaxis": {
            "gridcolor": "white",
            "linecolor": "white",
            "ticks": ""
           },
           "bgcolor": "#E5ECF6",
           "radialaxis": {
            "gridcolor": "white",
            "linecolor": "white",
            "ticks": ""
           }
          },
          "scene": {
           "xaxis": {
            "backgroundcolor": "#E5ECF6",
            "gridcolor": "white",
            "gridwidth": 2,
            "linecolor": "white",
            "showbackground": true,
            "ticks": "",
            "zerolinecolor": "white"
           },
           "yaxis": {
            "backgroundcolor": "#E5ECF6",
            "gridcolor": "white",
            "gridwidth": 2,
            "linecolor": "white",
            "showbackground": true,
            "ticks": "",
            "zerolinecolor": "white"
           },
           "zaxis": {
            "backgroundcolor": "#E5ECF6",
            "gridcolor": "white",
            "gridwidth": 2,
            "linecolor": "white",
            "showbackground": true,
            "ticks": "",
            "zerolinecolor": "white"
           }
          },
          "shapedefaults": {
           "line": {
            "color": "#2a3f5f"
           }
          },
          "ternary": {
           "aaxis": {
            "gridcolor": "white",
            "linecolor": "white",
            "ticks": ""
           },
           "baxis": {
            "gridcolor": "white",
            "linecolor": "white",
            "ticks": ""
           },
           "bgcolor": "#E5ECF6",
           "caxis": {
            "gridcolor": "white",
            "linecolor": "white",
            "ticks": ""
           }
          },
          "title": {
           "x": 0.05
          },
          "xaxis": {
           "automargin": true,
           "gridcolor": "white",
           "linecolor": "white",
           "ticks": "",
           "title": {
            "standoff": 15
           },
           "zerolinecolor": "white",
           "zerolinewidth": 2
          },
          "yaxis": {
           "automargin": true,
           "gridcolor": "white",
           "linecolor": "white",
           "ticks": "",
           "title": {
            "standoff": 15
           },
           "zerolinecolor": "white",
           "zerolinewidth": 2
          }
         }
        },
        "title": {
         "text": "Интерактивная Дендрограмма"
        },
        "width": 1200,
        "xaxis": {
         "mirror": "allticks",
         "rangemode": "tozero",
         "showgrid": false,
         "showline": true,
         "showticklabels": true,
         "tickmode": "array",
         "ticks": "outside",
         "ticktext": [
          "Inception",
          "Megamind",
          "Easy A",
          "Prince of Persia: The Sands of Time",
          "RED",
          "The Karate Kid",
          "Clash of the Titans",
          "Grown Ups",
          "The Book of Eli",
          "The Twilight Saga: Eclipse",
          "The King's Speech",
          "The Expendables",
          "Scott Pilgrim vs. the World",
          "TRON: Legacy",
          "127 Hours",
          "Shrek Forever After",
          "Percy Jackson & the Olympians: The Lightning Thief",
          "The Servant",
          "Azureus Rising",
          "Tabu",
          "Halo Legends",
          "Sin tetas no hay paraíso",
          "El Infierno",
          "Room in Rome",
          "Barbie: A Fashion Fairytale",
          "Scooby-Doo! Curse of the Lake Monster",
          "Scared Shrekless",
          "Naruto Shippuden the Movie: The Lost Tower",
          "Ninja",
          "Titanic II",
          "Ong Bak 3",
          "Nanny McPhee and the Big Bang",
          "Frozen",
          "Elite Squad: The Enemy Within",
          "Step Up 3D",
          "Faster",
          "A Serbian Film",
          "The Wolfman",
          "From Paris with Love",
          "Leap Year",
          "She's Out of My League",
          "Piranha 3D",
          "Splice",
          "I Spit on Your Grave",
          "Hot Tub Time Machine",
          "Eat Pray Love",
          "Paranormal Activity 2",
          "Undisputed III: Redemption",
          "Tinker Bell and the Great Fairy Rescue",
          "Death Race 2",
          "The Last Exorcism",
          "Diary of a Wimpy Kid",
          "Sex and the City 2",
          "22 Bullets",
          "The Extraordinary Adventures of Adèle Blanc-Sec",
          "The Man from Nowhere",
          "My Name Is Khan",
          "16 Wishes",
          "The Spy Next Door",
          "Takers",
          "Vampires Suck",
          "A Nightmare on Elm Street",
          "Legion",
          "I Saw the Devil",
          "Letters to Juliet",
          "The Secret World of Arrietty",
          "The Next Three Days",
          "Incendies",
          "Tucker and Dale vs. Evil",
          "Remember Me",
          "Unstoppable",
          "Blue Valentine",
          "Three Steps Above Heaven",
          "Flipped",
          "Saw 3D",
          "The Sorcerer's Apprentice",
          "The Town",
          "Love & Other Drugs",
          "The Chronicles of Narnia: The Voyage of the Dawn Treader",
          "Salt",
          "True Grit",
          "Due Date",
          "The Tourist",
          "Knight and Day",
          "The A-Team",
          "Robin Hood",
          "The Last Airbender",
          "Predators",
          "The Other Guys",
          "The Social Network",
          "Tangled",
          "Kick-Ass",
          "Despicable Me",
          "Toy Story 3",
          "Black Swan",
          "How to Train Your Dragon",
          "Alice in Wonderland",
          "Shutter Island",
          "Harry Potter and the Deathly Hallows: Part 1",
          "Iron Man 2"
         ],
         "tickvals": [
          5,
          15,
          25,
          35,
          45,
          55,
          65,
          75,
          85,
          95,
          105,
          115,
          125,
          135,
          145,
          155,
          165,
          175,
          185,
          195,
          205,
          215,
          225,
          235,
          245,
          255,
          265,
          275,
          285,
          295,
          305,
          315,
          325,
          335,
          345,
          355,
          365,
          375,
          385,
          395,
          405,
          415,
          425,
          435,
          445,
          455,
          465,
          475,
          485,
          495,
          505,
          515,
          525,
          535,
          545,
          555,
          565,
          575,
          585,
          595,
          605,
          615,
          625,
          635,
          645,
          655,
          665,
          675,
          685,
          695,
          705,
          715,
          725,
          735,
          745,
          755,
          765,
          775,
          785,
          795,
          805,
          815,
          825,
          835,
          845,
          855,
          865,
          875,
          885,
          895,
          905,
          915,
          925,
          935,
          945,
          955,
          965,
          975,
          985,
          995
         ],
         "title": {
          "text": "Элементы данных"
         },
         "type": "linear",
         "zeroline": false
        },
        "yaxis": {
         "mirror": "allticks",
         "rangemode": "tozero",
         "showgrid": false,
         "showline": true,
         "showticklabels": true,
         "ticks": "outside",
         "title": {
          "text": "Расстояние"
         },
         "type": "linear",
         "zeroline": false
        }
       }
      }
     },
     "metadata": {},
     "output_type": "display_data"
    }
   ],
   "source": [
    "# Step 1: Load the data\n",
    "file_path = \"netflix_movies_detailed_up_to_2025.csv\"  # Replace with the actual path to your file\n",
    "df = pd.read_csv(file_path)\n",
    "df = df.iloc[:100]\n",
    "\n",
    "# Step 2: Preprocess the data\n",
    "# Select relevant columns and drop rows with missing values\n",
    "data = df[['vote_count', 'vote_average']].dropna().values\n",
    "titles = df.loc[df['vote_count'].notna() & df['vote_average'].notna(), 'title'].tolist()\n",
    "\n",
    "# Step 3: Perform hierarchical clustering\n",
    "hc = HierarchicalClustering(data, p=2, method='complete')\n",
    "hc.calculate_distances()\n",
    "hc.perform_clustering()\n",
    "hc.plot_dendrogram(labels=titles, truncate_mode='lastp', p=10)\n",
    "hc.plot_interactive_dendrogram(labels=titles)"
   ]
  }
 ],
 "metadata": {
  "kernelspec": {
   "display_name": ".venv",
   "language": "python",
   "name": "python3"
  },
  "language_info": {
   "codemirror_mode": {
    "name": "ipython",
    "version": 3
   },
   "file_extension": ".py",
   "mimetype": "text/x-python",
   "name": "python",
   "nbconvert_exporter": "python",
   "pygments_lexer": "ipython3",
   "version": "3.12.6"
  }
 },
 "nbformat": 4,
 "nbformat_minor": 2
}

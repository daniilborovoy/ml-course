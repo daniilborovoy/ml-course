{
 "cells": [
  {
   "cell_type": "markdown",
   "metadata": {},
   "source": [
    "# `Лабораторная работа №2` РЕАЛИЗАЦИЯ ДИСКРИМИНАНТНОГО АНАЛИЗА"
   ]
  },
  {
   "cell_type": "code",
   "execution_count": 1,
   "metadata": {},
   "outputs": [],
   "source": [
    "import numpy as np"
   ]
  },
  {
   "cell_type": "markdown",
   "metadata": {},
   "source": [
    "## Тестовые данные"
   ]
  },
  {
   "cell_type": "code",
   "execution_count": 7,
   "metadata": {},
   "outputs": [],
   "source": [
    "X0 = np.array([\n",
    "    [55.451, 9.592, 12.840],\n",
    "    [78.575, 11.727, 15.535],\n",
    "    [98.353, 17.572, 20.458]\n",
    "])\n",
    "\n",
    "X1 = np.array([\n",
    "    [224.228, 17.115, 22.981],\n",
    "    [151.827, 14.904, 21.481],\n",
    "    [147.313, 13.627, 18.669],\n",
    "    [152.253, 10.545, 10.199]\n",
    "])\n",
    "\n",
    "X2 = np.array([\n",
    "    [46.757, 4.428, 11.124],\n",
    "    [29.033, 5.510, 6.091],\n",
    "    [52.134, 4.214, 11.842],\n",
    "    [37.050, 5.527, 11.873],\n",
    "    [63.979, 4.211, 12.860]\n",
    "])\n",
    "\n",
    "n0 = len(X0)\n",
    "n1 = len(X1)\n",
    "n2 = len(X2)\n",
    "m = len(X1[0])"
   ]
  },
  {
   "cell_type": "markdown",
   "metadata": {},
   "source": [
    "## (ШАГ_1) Вычисляет среднее по каждому столбцу матрицы"
   ]
  },
  {
   "cell_type": "code",
   "execution_count": 8,
   "metadata": {},
   "outputs": [],
   "source": [
    "def mean_manual(matrix):\n",
    "    n_rows = len(matrix)\n",
    "    n_cols = len(matrix[0]) if n_rows > 0 else 0\n",
    "    means = [0.0] * n_cols\n",
    "\n",
    "    for row in matrix:\n",
    "        for j in range(n_cols):\n",
    "            means[j] += row[j]\n",
    "\n",
    "    means = [x / n_rows for x in means]\n",
    "    return means\n",
    "\n",
    "X11 = mean_manual(X1)\n",
    "X21 = mean_manual(X2)"
   ]
  },
  {
   "cell_type": "markdown",
   "metadata": {},
   "source": [
    "# (ШАГ_2) Расчет ковариационных матриц"
   ]
  },
  {
   "cell_type": "code",
   "execution_count": 9,
   "metadata": {},
   "outputs": [],
   "source": [
    "# Функция для вычитания векторов (поэлементно)\n",
    "def subtract_vectors(a, b):\n",
    "    return [a[i] - b[i] for i in range(len(a))]\n",
    "\n",
    "# Функция для умножения вектора на себя\n",
    "def outer_product(vec):\n",
    "    m = len(vec)\n",
    "    result = [[0.0 for _ in range(m)] for _ in range(m)]\n",
    "    for i in range(m):\n",
    "        for j in range(m):\n",
    "            result[i][j] = vec[i] * vec[j]\n",
    "    return result\n",
    "\n",
    "# Функция для сложения матриц\n",
    "def add_matrices(a, b):\n",
    "    m = len(a)\n",
    "    n = len(a[0])\n",
    "    return [[a[i][j] + b[i][j] for j in range(n)] for i in range(m)]\n",
    "\n",
    "# Функция для деления матрицы на число\n",
    "def divide_matrix(matrix, scalar):\n",
    "    return [[element / scalar for element in row] for row in matrix]\n",
    "\n",
    "# Вычисление S1\n",
    "S1 = [[0.0 for _ in range(m)] for _ in range(m)]  # Инициализация нулевой матрицы m x m\n",
    "for i in range(n1):\n",
    "    diff = subtract_vectors(X1[i], X11)\n",
    "    outer = outer_product(diff)\n",
    "    S1 = add_matrices(S1, outer)\n",
    "S1 = divide_matrix(S1, n1)\n",
    "\n",
    "# Вычисление S2\n",
    "S2 = [[0.0 for _ in range(m)] for _ in range(m)]\n",
    "for i in range(n2):\n",
    "    diff = subtract_vectors(X2[i], X21)\n",
    "    outer = outer_product(diff)\n",
    "    S2 = add_matrices(S2, outer)\n",
    "S2 = divide_matrix(S2, n2)"
   ]
  },
  {
   "cell_type": "markdown",
   "metadata": {},
   "source": [
    "# (ШАГ_3) Объединенная ковариационная матрица"
   ]
  },
  {
   "cell_type": "code",
   "execution_count": 5,
   "metadata": {},
   "outputs": [],
   "source": [
    "# Умножение матрицы на скаляр\n",
    "def matrix_scalar_multiply(matrix, scalar):\n",
    "    return [[element * scalar for element in row] for row in matrix]\n",
    "\n",
    "# Вычисление объединённой ковариационной матрицы S\n",
    "S1_scaled = matrix_scalar_multiply(S1, n1)\n",
    "S2_scaled = matrix_scalar_multiply(S2, n2)\n",
    "S_sum = add_matrices(S1_scaled, S2_scaled)\n",
    "denominator = n1 + n2 - 2\n",
    "S = divide_matrix(S_sum, denominator)"
   ]
  },
  {
   "cell_type": "markdown",
   "metadata": {},
   "source": [
    "# (ШАГ_4) Обратная матрица"
   ]
  },
  {
   "cell_type": "code",
   "execution_count": 6,
   "metadata": {},
   "outputs": [],
   "source": [
    "# Функции для обращения матрицы (методом Гаусса-Жордана)\n",
    "def inverse_matrix(matrix):\n",
    "    n = len(matrix)\n",
    "    # Создаём расширенную матрицу [matrix|I]\n",
    "    inverse = [[0.0 for _ in range(n)] for _ in range(n)]\n",
    "    for i in range(n):\n",
    "        inverse[i][i] = 1.0\n",
    "    \n",
    "    # Копируем исходную матрицу\n",
    "    mat = [row[:] for row in matrix]\n",
    "    \n",
    "    # Прямой ход (приведение к верхнетреугольному виду)\n",
    "    for col in range(n):\n",
    "        # Выбор главного элемента\n",
    "        max_row = col\n",
    "        for row in range(col + 1, n):\n",
    "            if abs(mat[row][col]) > abs(mat[max_row][col]):\n",
    "                max_row = row\n",
    "        # Перестановка строк\n",
    "        mat[col], mat[max_row] = mat[max_row], mat[col]\n",
    "        inverse[col], inverse[max_row] = inverse[max_row], inverse[col]\n",
    "        \n",
    "        # Нормализация текущей строки\n",
    "        pivot = mat[col][col]\n",
    "        for j in range(col, n):\n",
    "            mat[col][j] /= pivot\n",
    "        for j in range(n):\n",
    "            inverse[col][j] /= pivot\n",
    "        \n",
    "        # Обнуление элементов ниже текущего\n",
    "        for row in range(col + 1, n):\n",
    "            factor = mat[row][col]\n",
    "            for j in range(col, n):\n",
    "                mat[row][j] -= factor * mat[col][j]\n",
    "            for j in range(n):\n",
    "                inverse[row][j] -= factor * inverse[col][j]\n",
    "    \n",
    "    # Обратный ход (приведение к диагональному виду)\n",
    "    for col in reversed(range(n)):\n",
    "        for row in range(col):\n",
    "            factor = mat[row][col]\n",
    "            for j in range(n):\n",
    "                inverse[row][j] -= factor * inverse[col][j]\n",
    "    \n",
    "    return inverse\n",
    "\n",
    "# Обратная матрица S0\n",
    "S0 = inverse_matrix(S)"
   ]
  },
  {
   "cell_type": "markdown",
   "metadata": {},
   "source": [
    "## (ШАГ_5) Коэффициенты дискриминантной функции"
   ]
  },
  {
   "cell_type": "code",
   "execution_count": 8,
   "metadata": {},
   "outputs": [],
   "source": [
    "# Умножение матрицы на вектор\n",
    "def matrix_vector_multiply(matrix, vector):\n",
    "    return [sum(matrix[i][j] * vector[j] for j in range(len(vector))) for i in range(len(matrix))]\n",
    "\n",
    "# Разность векторов X11 - X21\n",
    "X11_minus_X21 = subtract_vectors(X11, X21)\n",
    "\n",
    "# Умножение обратной матрицы S0 на вектор разности\n",
    "A = matrix_vector_multiply(S0, X11_minus_X21)\n"
   ]
  },
  {
   "cell_type": "markdown",
   "metadata": {},
   "source": [
    "## (ШАГ_6)  Проекции данных (умножение матриц на вектор A)"
   ]
  },
  {
   "cell_type": "code",
   "execution_count": 9,
   "metadata": {},
   "outputs": [],
   "source": [
    "F1 = [sum(X1[i][j] * A[j] for j in range(m)) for i in range(n1)]\n",
    "F2 = [sum(X2[i][j] * A[j] for j in range(m)) for i in range(n2)]"
   ]
  },
  {
   "cell_type": "markdown",
   "metadata": {},
   "source": [
    "## (ШАГ_7)  Средние значения проекций"
   ]
  },
  {
   "cell_type": "code",
   "execution_count": 10,
   "metadata": {},
   "outputs": [],
   "source": [
    "def mean(values):\n",
    "    return sum(values) / len(values) if len(values) > 0 else 0.0\n",
    "\n",
    "M1 = mean(F1)\n",
    "M2 = mean(F2)"
   ]
  },
  {
   "cell_type": "markdown",
   "metadata": {},
   "source": [
    "## (ШАГ_8) Порог классификации"
   ]
  },
  {
   "cell_type": "code",
   "execution_count": 11,
   "metadata": {},
   "outputs": [
    {
     "name": "stdout",
     "output_type": "stream",
     "text": [
      "31.875643845795274\n"
     ]
    }
   ],
   "source": [
    "F_threshold = 0.5 * (M1 + M2)\n",
    "print(F_threshold)"
   ]
  },
  {
   "cell_type": "markdown",
   "metadata": {},
   "source": [
    "## (ШАГ_9) Классификация X0"
   ]
  },
  {
   "cell_type": "code",
   "execution_count": 12,
   "metadata": {},
   "outputs": [
    {
     "name": "stdout",
     "output_type": "stream",
     "text": [
      "[np.float64(-5.287058523230094), np.float64(2.5312087940260426), np.float64(20.28426674582417)]\n",
      "[np.float64(-5.287058523230094), np.float64(2.5312087940260426), np.float64(20.28426674582417)]\n",
      "['X2', 'X1', 'X1']\n"
     ]
    }
   ],
   "source": [
    "F0 = [sum(X0[i][j] * A[j] for j in range(m)) for i in range(n0)]\n",
    "classification = [f - F_threshold for f in F0]\n",
    "print(classification)\n",
    "cl2 = []\n",
    "\n",
    "if M1 > M2 :\n",
    "    for i in range(len(classification)):\n",
    "        if classification[i] > 0 :\n",
    "            cl2.append(\"X1\")\n",
    "        else:\n",
    "            cl2.append(\"X2\")\n",
    "else:\n",
    "    for i in range(len(classification)):\n",
    "        if classification[i] > 0 :\n",
    "            cl2.append(\"X2\")\n",
    "        else:\n",
    "            cl2.append(\"X1\")\n",
    "\n",
    "print(classification)\n",
    "print(cl2)"
   ]
  },
  {
   "cell_type": "code",
   "execution_count": 13,
   "metadata": {},
   "outputs": [
    {
     "name": "stdout",
     "output_type": "stream",
     "text": [
      "[[1, np.float64(35.110170101133896)], [2, np.float64(17.752649787446863)], [3, np.float64(16.086375419670922)], [4, np.float64(16.720459467130937)], [5, np.float64(-22.996821363589547)], [6, np.float64(-15.384862327625328)], [7, np.float64(-23.85071594746109)], [8, np.float64(-21.53477434772848)], [9, np.float64(-23.31989448282384)], [10, np.float64(-5.287058523230094)], [11, np.float64(2.5312087940260426)], [12, np.float64(20.28426674582417)]]\n"
     ]
    }
   ],
   "source": [
    "# Реализация FF := stack(F1, F2, F0) - F (аналог Mathcad)\n",
    "FF = F1 + F2 + F0  # Объединяем списки\n",
    "FF = [f - F_threshold for f in FF]  # Вычитаем порог\n",
    "\n",
    "# Создаём список индексов d = [1, 2, ..., 12]\n",
    "d = list(range(1, len(FF) + 1))\n",
    "\n",
    "# Реализация B := augment(d, FF) - объединяем индексы и значения в матрицу\n",
    "B = [[di, ffi] for di, ffi in zip(d, FF)]\n",
    "\n",
    "print(B)"
   ]
  },
  {
   "cell_type": "code",
   "execution_count": 14,
   "metadata": {},
   "outputs": [
    {
     "data": {
      "image/png": "[encoded data removed]",
      "text/plain": [
       "<Figure size 1000x500 with 1 Axes>"
      ]
     },
     "metadata": {},
     "output_type": "display_data"
    }
   ],
   "source": [
    "import matplotlib.pyplot as plt\n",
    "\n",
    "plt.figure(figsize=(10, 5))\n",
    "plt.scatter(d, FF, color='blue', s=50)\n",
    "plt.scatter(d, FF, color='blue', s=50)\n",
    "plt.axhline(y=0, color='r', linestyle='--', label='Порог (0)')\n",
    "plt.title('Дискриминантный анализ: FF = stack(F1,F2,F0) - F')\n",
    "plt.xlabel('Индекс (d)')\n",
    "plt.ylabel('FF')\n",
    "plt.xticks(d)\n",
    "plt.grid(True)\n",
    "plt.legend()\n",
    "plt.show()"
   ]
  }
 ],
 "metadata": {
  "kernelspec": {
   "display_name": ".venv",
   "language": "python",
   "name": "python3"
  },
  "language_info": {
   "codemirror_mode": {
    "name": "ipython",
    "version": 3
   },
   "file_extension": ".py",
   "mimetype": "text/x-python",
   "name": "python",
   "nbconvert_exporter": "python",
   "pygments_lexer": "ipython3",
   "version": "3.12.6"
  }
 },
 "nbformat": 4,
 "nbformat_minor": 2
}
